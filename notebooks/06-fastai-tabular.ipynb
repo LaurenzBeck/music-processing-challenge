{
 "cells": [
  {
   "cell_type": "code",
   "execution_count": 1,
   "id": "24953308-b56f-4140-9d41-219522a855d6",
   "metadata": {},
   "outputs": [
    {
     "name": "stderr",
     "output_type": "stream",
     "text": [
      "/home/laurenz/.cache/pypoetry/virtualenvs/music-processing-6AESlpXO-py3.9/lib/python3.9/site-packages/tqdm/auto.py:22: TqdmWarning: IProgress not found. Please update jupyter and ipywidgets. See https://ipywidgets.readthedocs.io/en/stable/user_install.html\n",
      "  from .autonotebook import tqdm as notebook_tqdm\n",
      "/home/laurenz/.cache/pypoetry/virtualenvs/music-processing-6AESlpXO-py3.9/lib/python3.9/site-packages/torch/cuda/__init__.py:82: UserWarning: CUDA initialization: CUDA unknown error - this may be due to an incorrectly set up environment, e.g. changing env variable CUDA_VISIBLE_DEVICES after program start. Setting the available devices to be zero. (Triggered internally at  ../c10/cuda/CUDAFunctions.cpp:112.)\n",
      "  return torch._C._cuda_getDeviceCount() > 0\n"
     ]
    }
   ],
   "source": [
    "import pandas as pd\n",
    "from fastai.tabular.all import *\n",
    "from sklearn.ensemble import RandomForestRegressor\n",
    "from sklearn.tree import DecisionTreeRegressor"
   ]
  },
  {
   "cell_type": "code",
   "execution_count": 2,
   "id": "5b75ffac-1d81-4f4e-892e-31103c37acbe",
   "metadata": {},
   "outputs": [
    {
     "data": {
      "text/html": [
       "<div>\n",
       "<style scoped>\n",
       "    .dataframe tbody tr th:only-of-type {\n",
       "        vertical-align: middle;\n",
       "    }\n",
       "\n",
       "    .dataframe tbody tr th {\n",
       "        vertical-align: top;\n",
       "    }\n",
       "\n",
       "    .dataframe thead th {\n",
       "        text-align: right;\n",
       "    }\n",
       "</style>\n",
       "<table border=\"1\" class=\"dataframe\">\n",
       "  <thead>\n",
       "    <tr style=\"text-align: right;\">\n",
       "      <th></th>\n",
       "      <th>file</th>\n",
       "      <th>superflux</th>\n",
       "      <th>timestamps</th>\n",
       "      <th>energy</th>\n",
       "      <th>rms</th>\n",
       "      <th>sound_preassure_level</th>\n",
       "      <th>welch</th>\n",
       "      <th>mean</th>\n",
       "      <th>kurtosis</th>\n",
       "      <th>skew</th>\n",
       "      <th>variation</th>\n",
       "      <th>onset</th>\n",
       "    </tr>\n",
       "  </thead>\n",
       "  <tbody>\n",
       "    <tr>\n",
       "      <th>0</th>\n",
       "      <td>Media-105913(10.6-20.6)</td>\n",
       "      <td>0.00000</td>\n",
       "      <td>0.025</td>\n",
       "      <td>55467400.0</td>\n",
       "      <td>2.98397</td>\n",
       "      <td>-15.84936</td>\n",
       "      <td>759233.5</td>\n",
       "      <td>0.21315</td>\n",
       "      <td>0.70625</td>\n",
       "      <td>0.18791</td>\n",
       "      <td>44.15271</td>\n",
       "      <td>False</td>\n",
       "    </tr>\n",
       "    <tr>\n",
       "      <th>1</th>\n",
       "      <td>Media-105913(10.6-20.6)</td>\n",
       "      <td>0.00002</td>\n",
       "      <td>0.075</td>\n",
       "      <td>69169704.0</td>\n",
       "      <td>6.24302</td>\n",
       "      <td>-13.66481</td>\n",
       "      <td>6618254.5</td>\n",
       "      <td>0.00680</td>\n",
       "      <td>1.25806</td>\n",
       "      <td>-0.22809</td>\n",
       "      <td>87.05717</td>\n",
       "      <td>False</td>\n",
       "    </tr>\n",
       "    <tr>\n",
       "      <th>2</th>\n",
       "      <td>Media-105913(10.6-20.6)</td>\n",
       "      <td>0.00002</td>\n",
       "      <td>0.125</td>\n",
       "      <td>40162056.0</td>\n",
       "      <td>200.63614</td>\n",
       "      <td>-10.44240</td>\n",
       "      <td>22182580.0</td>\n",
       "      <td>4.48390</td>\n",
       "      <td>2.54332</td>\n",
       "      <td>-0.05504</td>\n",
       "      <td>-116.18803</td>\n",
       "      <td>False</td>\n",
       "    </tr>\n",
       "    <tr>\n",
       "      <th>3</th>\n",
       "      <td>Media-105913(10.6-20.6)</td>\n",
       "      <td>0.00002</td>\n",
       "      <td>0.175</td>\n",
       "      <td>12615434.0</td>\n",
       "      <td>466.26970</td>\n",
       "      <td>-10.45462</td>\n",
       "      <td>33959388.0</td>\n",
       "      <td>-44.78118</td>\n",
       "      <td>-0.31614</td>\n",
       "      <td>0.06513</td>\n",
       "      <td>179.42334</td>\n",
       "      <td>True</td>\n",
       "    </tr>\n",
       "    <tr>\n",
       "      <th>4</th>\n",
       "      <td>Media-105913(10.6-20.6)</td>\n",
       "      <td>0.02186</td>\n",
       "      <td>0.225</td>\n",
       "      <td>10925792.0</td>\n",
       "      <td>480.33290</td>\n",
       "      <td>-12.53607</td>\n",
       "      <td>36534316.0</td>\n",
       "      <td>-43.03605</td>\n",
       "      <td>-0.42523</td>\n",
       "      <td>-0.20142</td>\n",
       "      <td>278.65738</td>\n",
       "      <td>False</td>\n",
       "    </tr>\n",
       "  </tbody>\n",
       "</table>\n",
       "</div>"
      ],
      "text/plain": [
       "                      file  superflux  timestamps      energy        rms  \\\n",
       "0  Media-105913(10.6-20.6)    0.00000       0.025  55467400.0    2.98397   \n",
       "1  Media-105913(10.6-20.6)    0.00002       0.075  69169704.0    6.24302   \n",
       "2  Media-105913(10.6-20.6)    0.00002       0.125  40162056.0  200.63614   \n",
       "3  Media-105913(10.6-20.6)    0.00002       0.175  12615434.0  466.26970   \n",
       "4  Media-105913(10.6-20.6)    0.02186       0.225  10925792.0  480.33290   \n",
       "\n",
       "   sound_preassure_level       welch      mean  kurtosis     skew  variation  \\\n",
       "0              -15.84936    759233.5   0.21315   0.70625  0.18791   44.15271   \n",
       "1              -13.66481   6618254.5   0.00680   1.25806 -0.22809   87.05717   \n",
       "2              -10.44240  22182580.0   4.48390   2.54332 -0.05504 -116.18803   \n",
       "3              -10.45462  33959388.0 -44.78118  -0.31614  0.06513  179.42334   \n",
       "4              -12.53607  36534316.0 -43.03605  -0.42523 -0.20142  278.65738   \n",
       "\n",
       "   onset  \n",
       "0  False  \n",
       "1  False  \n",
       "2  False  \n",
       "3   True  \n",
       "4  False  "
      ]
     },
     "execution_count": 2,
     "metadata": {},
     "output_type": "execute_result"
    }
   ],
   "source": [
    "df = pd.read_csv('../data/processed/train/data.csv', low_memory=False)\n",
    "df_val = pd.read_csv('../data/processed/val/data.csv', low_memory=False)\n",
    "df.head()"
   ]
  },
  {
   "cell_type": "code",
   "execution_count": 3,
   "id": "fc127049-de4d-4b96-bdd3-31773932ef73",
   "metadata": {},
   "outputs": [
    {
     "name": "stdout",
     "output_type": "stream",
     "text": [
      "<class 'pandas.core.frame.DataFrame'>\n",
      "Int64Index: 48899 entries, 0 to 9247\n",
      "Data columns (total 12 columns):\n",
      " #   Column                 Non-Null Count  Dtype   \n",
      "---  ------                 --------------  -----   \n",
      " 0   file                   48899 non-null  object  \n",
      " 1   superflux              48899 non-null  float64 \n",
      " 2   timestamps             48899 non-null  float64 \n",
      " 3   energy                 48899 non-null  float64 \n",
      " 4   rms                    48899 non-null  float64 \n",
      " 5   sound_preassure_level  48899 non-null  float64 \n",
      " 6   welch                  48899 non-null  float64 \n",
      " 7   mean                   48899 non-null  float64 \n",
      " 8   kurtosis               48899 non-null  float64 \n",
      " 9   skew                   48899 non-null  float64 \n",
      " 10  variation              48826 non-null  float64 \n",
      " 11  onset                  48899 non-null  category\n",
      "dtypes: category(1), float64(10), object(1)\n",
      "memory usage: 4.5+ MB\n"
     ]
    }
   ],
   "source": [
    "df = pd.concat([df, df_val])\n",
    "df[\"onset\"] = df[\"onset\"].astype('category')\n",
    "df.info()"
   ]
  },
  {
   "cell_type": "code",
   "execution_count": 4,
   "id": "2d9d4522-4cb1-47a7-81a8-d1e5bb0b226f",
   "metadata": {},
   "outputs": [],
   "source": [
    "train_len = len(df)\n",
    "splits = (list(range_of(df)[:train_len]),list(range_of(df)[train_len:]))"
   ]
  },
  {
   "cell_type": "code",
   "execution_count": 5,
   "id": "27fa4f15-b5b2-4fa9-8a1f-83697892f998",
   "metadata": {},
   "outputs": [],
   "source": [
    "procs = [Categorify, Normalize]"
   ]
  },
  {
   "cell_type": "code",
   "execution_count": 6,
   "id": "73bfb8e4-a524-430d-8282-7e65f732b106",
   "metadata": {},
   "outputs": [],
   "source": [
    "cont,cat = cont_cat_split(df.loc[:, ~df.columns.isin(['file', 'timestamps', 'sound_preassure_level', 'variation'])], 1, dep_var=\"onset\")"
   ]
  },
  {
   "cell_type": "code",
   "execution_count": 8,
   "id": "bedc5273-762c-4a75-9f1a-35c82781030f",
   "metadata": {},
   "outputs": [
    {
     "data": {
      "text/plain": [
       "['superflux', 'energy', 'rms', 'welch', 'mean', 'kurtosis', 'skew']"
      ]
     },
     "execution_count": 8,
     "metadata": {},
     "output_type": "execute_result"
    }
   ],
   "source": [
    "cont"
   ]
  },
  {
   "cell_type": "code",
   "execution_count": 9,
   "id": "4fd68bd6-6134-482c-9a0b-4c358d008ca1",
   "metadata": {},
   "outputs": [
    {
     "data": {
      "text/plain": [
       "[]"
      ]
     },
     "execution_count": 9,
     "metadata": {},
     "output_type": "execute_result"
    }
   ],
   "source": [
    "cat"
   ]
  },
  {
   "cell_type": "code",
   "execution_count": 28,
   "id": "0b712247-27c5-462a-b803-940debbe568e",
   "metadata": {},
   "outputs": [],
   "source": [
    "dls = TabularDataLoaders.from_df(df, \n",
    "                                 y_names=\"onset\", \n",
    "                                 cat_names=cat,\n",
    "                                 cont_names=cont,\n",
    "                                 procs=procs,\n",
    "                                 splits=splits,\n",
    "                                 bs=128)"
   ]
  },
  {
   "cell_type": "code",
   "execution_count": 29,
   "id": "0e5d597f-0a34-463e-940f-f3a9d8376f97",
   "metadata": {},
   "outputs": [],
   "source": [
    "#####################\n",
    "# Construct Weights #\n",
    "#####################\n",
    "class_count_df = df.groupby(\"onset\").count()\n",
    "\n",
    "n_0, n_1 = class_count_df.iloc[0, 0], class_count_df.iloc[1, 0]\n",
    "\n",
    "w_0 = (n_0 + n_1) / (2.0 * n_0)\n",
    "w_1 = (n_0 + n_1) / (2.0 * n_1)\n",
    "\n",
    "# Important: Convert Weights To Float Tensor\n",
    "class_weights=torch.FloatTensor([w_0, w_1])"
   ]
  },
  {
   "cell_type": "code",
   "execution_count": 30,
   "id": "c09b8b77-2b8a-4bd1-922b-0be153d0e2b0",
   "metadata": {},
   "outputs": [
    {
     "data": {
      "text/plain": [
       "tensor([0.6846, 1.8545])"
      ]
     },
     "execution_count": 30,
     "metadata": {},
     "output_type": "execute_result"
    }
   ],
   "source": [
    "class_weights"
   ]
  },
  {
   "cell_type": "code",
   "execution_count": 59,
   "id": "7e2b80a1-f882-416d-810b-fbe05681176f",
   "metadata": {},
   "outputs": [],
   "source": [
    "loss_func = LabelSmoothingCrossEntropyFlat(weight=class_weights)\n",
    "#loss_func = FocalLossFlat(weight=class_weights)"
   ]
  },
  {
   "cell_type": "code",
   "execution_count": 60,
   "id": "52fabe43-8e44-4228-8488-e165f9aa7cb8",
   "metadata": {},
   "outputs": [],
   "source": [
    "learn = tabular_learner(\n",
    "    dls, \n",
    "    loss_func=loss_func,\n",
    "    opt_func=Lamb,\n",
    "    layers=[512,256,256,128,64],\n",
    "    config=tabular_config(\n",
    "        ps=[0.25,0.2,0.15,0.1,0.05],\n",
    "        act_cls=Mish(inplace=True)\n",
    "    ),\n",
    "    metrics=[\n",
    "        accuracy, \n",
    "        F1Score(labels=[0,1]), \n",
    "        Precision(labels=[0,1]), \n",
    "        Recall(labels=[0,1]),\n",
    "    ]\n",
    ")"
   ]
  },
  {
   "cell_type": "code",
   "execution_count": 53,
   "id": "fa86df85-19d7-4d53-a70e-f502576e6799",
   "metadata": {},
   "outputs": [
    {
     "data": {
      "text/html": [
       "\n",
       "<style>\n",
       "    /* Turns off some styling */\n",
       "    progress {\n",
       "        /* gets rid of default border in Firefox and Opera. */\n",
       "        border: none;\n",
       "        /* Needs to be in here for Safari polyfill so background images work as expected. */\n",
       "        background-size: auto;\n",
       "    }\n",
       "    .progress-bar-interrupted, .progress-bar-interrupted::-webkit-progress-bar {\n",
       "        background: #F44336;\n",
       "    }\n",
       "</style>\n"
      ],
      "text/plain": [
       "<IPython.core.display.HTML object>"
      ]
     },
     "metadata": {},
     "output_type": "display_data"
    },
    {
     "data": {
      "text/html": [],
      "text/plain": [
       "<IPython.core.display.HTML object>"
      ]
     },
     "metadata": {},
     "output_type": "display_data"
    },
    {
     "data": {
      "text/plain": [
       "TabularModel (Input shape: 128 x 0)\n",
       "============================================================================\n",
       "Layer (type)         Output Shape         Param #    Trainable \n",
       "============================================================================\n",
       "                     128 x 7             \n",
       "BatchNorm1d                               14         True      \n",
       "____________________________________________________________________________\n",
       "                     128 x 512           \n",
       "Linear                                    3584       True      \n",
       "Mish                                                           \n",
       "BatchNorm1d                               1024       True      \n",
       "Dropout                                                        \n",
       "____________________________________________________________________________\n",
       "                     128 x 256           \n",
       "Linear                                    131072     True      \n",
       "Mish                                                           \n",
       "BatchNorm1d                               512        True      \n",
       "Dropout                                                        \n",
       "Linear                                    65536      True      \n",
       "Mish                                                           \n",
       "BatchNorm1d                               512        True      \n",
       "Dropout                                                        \n",
       "____________________________________________________________________________\n",
       "                     128 x 128           \n",
       "Linear                                    32768      True      \n",
       "Mish                                                           \n",
       "BatchNorm1d                               256        True      \n",
       "Dropout                                                        \n",
       "____________________________________________________________________________\n",
       "                     128 x 64            \n",
       "Linear                                    8192       True      \n",
       "Mish                                                           \n",
       "BatchNorm1d                               128        True      \n",
       "Dropout                                                        \n",
       "____________________________________________________________________________\n",
       "                     128 x 2             \n",
       "Linear                                    130        True      \n",
       "____________________________________________________________________________\n",
       "\n",
       "Total params: 243,728\n",
       "Total trainable params: 243,728\n",
       "Total non-trainable params: 0\n",
       "\n",
       "Optimizer used: <function Lamb at 0x7f0ced143430>\n",
       "Loss function: FlattenedLoss of FocalLoss()\n",
       "\n",
       "Callbacks:\n",
       "  - TrainEvalCallback\n",
       "  - Recorder\n",
       "  - ProgressCallback"
      ]
     },
     "execution_count": 53,
     "metadata": {},
     "output_type": "execute_result"
    }
   ],
   "source": [
    "learn.summary()"
   ]
  },
  {
   "cell_type": "code",
   "execution_count": 61,
   "id": "c5adadcb-bc81-4aee-843f-909496a5cacd",
   "metadata": {},
   "outputs": [
    {
     "data": {
      "text/html": [
       "\n",
       "<style>\n",
       "    /* Turns off some styling */\n",
       "    progress {\n",
       "        /* gets rid of default border in Firefox and Opera. */\n",
       "        border: none;\n",
       "        /* Needs to be in here for Safari polyfill so background images work as expected. */\n",
       "        background-size: auto;\n",
       "    }\n",
       "    .progress-bar-interrupted, .progress-bar-interrupted::-webkit-progress-bar {\n",
       "        background: #F44336;\n",
       "    }\n",
       "</style>\n"
      ],
      "text/plain": [
       "<IPython.core.display.HTML object>"
      ]
     },
     "metadata": {},
     "output_type": "display_data"
    },
    {
     "data": {
      "text/html": [],
      "text/plain": [
       "<IPython.core.display.HTML object>"
      ]
     },
     "metadata": {},
     "output_type": "display_data"
    },
    {
     "data": {
      "text/plain": [
       "SuggestedLRs(valley=0.004365158267319202)"
      ]
     },
     "execution_count": 61,
     "metadata": {},
     "output_type": "execute_result"
    },
    {
     "data": {
      "image/png": "[encoded data removed]",
      "text/plain": [
       "<Figure size 432x288 with 1 Axes>"
      ]
     },
     "metadata": {
      "needs_background": "light"
     },
     "output_type": "display_data"
    }
   ],
   "source": [
    "learn.lr_find()"
   ]
  },
  {
   "cell_type": "code",
   "execution_count": 62,
   "id": "393dd88f-40c5-4e97-8853-3b83575b3411",
   "metadata": {},
   "outputs": [
    {
     "data": {
      "text/html": [
       "\n",
       "<style>\n",
       "    /* Turns off some styling */\n",
       "    progress {\n",
       "        /* gets rid of default border in Firefox and Opera. */\n",
       "        border: none;\n",
       "        /* Needs to be in here for Safari polyfill so background images work as expected. */\n",
       "        background-size: auto;\n",
       "    }\n",
       "    .progress-bar-interrupted, .progress-bar-interrupted::-webkit-progress-bar {\n",
       "        background: #F44336;\n",
       "    }\n",
       "</style>\n"
      ],
      "text/plain": [
       "<IPython.core.display.HTML object>"
      ]
     },
     "metadata": {},
     "output_type": "display_data"
    },
    {
     "data": {
      "text/html": [
       "<table border=\"1\" class=\"dataframe\">\n",
       "  <thead>\n",
       "    <tr style=\"text-align: left;\">\n",
       "      <th>epoch</th>\n",
       "      <th>train_loss</th>\n",
       "      <th>valid_loss</th>\n",
       "      <th>accuracy</th>\n",
       "      <th>f1_score</th>\n",
       "      <th>precision_score</th>\n",
       "      <th>recall_score</th>\n",
       "      <th>time</th>\n",
       "    </tr>\n",
       "  </thead>\n",
       "  <tbody>\n",
       "    <tr>\n",
       "      <td>0</td>\n",
       "      <td>0.697576</td>\n",
       "      <td>0.693660</td>\n",
       "      <td>0.488905</td>\n",
       "      <td>0.362988</td>\n",
       "      <td>0.273794</td>\n",
       "      <td>0.538374</td>\n",
       "      <td>00:23</td>\n",
       "    </tr>\n",
       "    <tr>\n",
       "      <td>1</td>\n",
       "      <td>0.693618</td>\n",
       "      <td>0.695107</td>\n",
       "      <td>0.641170</td>\n",
       "      <td>0.226240</td>\n",
       "      <td>0.271429</td>\n",
       "      <td>0.193951</td>\n",
       "      <td>00:22</td>\n",
       "    </tr>\n",
       "    <tr>\n",
       "      <td>2</td>\n",
       "      <td>0.693476</td>\n",
       "      <td>0.692893</td>\n",
       "      <td>0.563555</td>\n",
       "      <td>0.333750</td>\n",
       "      <td>0.284233</td>\n",
       "      <td>0.404159</td>\n",
       "      <td>00:22</td>\n",
       "    </tr>\n",
       "    <tr>\n",
       "      <td>3</td>\n",
       "      <td>0.692833</td>\n",
       "      <td>0.692650</td>\n",
       "      <td>0.531445</td>\n",
       "      <td>0.357724</td>\n",
       "      <td>0.284250</td>\n",
       "      <td>0.482420</td>\n",
       "      <td>00:22</td>\n",
       "    </tr>\n",
       "  </tbody>\n",
       "</table>"
      ],
      "text/plain": [
       "<IPython.core.display.HTML object>"
      ]
     },
     "metadata": {},
     "output_type": "display_data"
    }
   ],
   "source": [
    "learn.fit_one_cycle(4, 1e-2, wd=1e-5)"
   ]
  },
  {
   "cell_type": "code",
   "execution_count": 63,
   "id": "1eb453cb-4579-4b85-96ea-94160755ff81",
   "metadata": {},
   "outputs": [
    {
     "data": {
      "image/png": "[encoded data removed]",
      "text/plain": [
       "<Figure size 432x288 with 1 Axes>"
      ]
     },
     "metadata": {
      "needs_background": "light"
     },
     "output_type": "display_data"
    }
   ],
   "source": [
    "learn.recorder.plot_loss()"
   ]
  },
  {
   "cell_type": "code",
   "execution_count": 20,
   "id": "07ebd862-a5e4-4845-a927-5c4f04a9d545",
   "metadata": {},
   "outputs": [
    {
     "data": {
      "text/html": [
       "\n",
       "<style>\n",
       "    /* Turns off some styling */\n",
       "    progress {\n",
       "        /* gets rid of default border in Firefox and Opera. */\n",
       "        border: none;\n",
       "        /* Needs to be in here for Safari polyfill so background images work as expected. */\n",
       "        background-size: auto;\n",
       "    }\n",
       "    .progress-bar-interrupted, .progress-bar-interrupted::-webkit-progress-bar {\n",
       "        background: #F44336;\n",
       "    }\n",
       "</style>\n"
      ],
      "text/plain": [
       "<IPython.core.display.HTML object>"
      ]
     },
     "metadata": {},
     "output_type": "display_data"
    },
    {
     "data": {
      "text/html": [],
      "text/plain": [
       "<IPython.core.display.HTML object>"
      ]
     },
     "metadata": {},
     "output_type": "display_data"
    },
    {
     "data": {
      "text/html": [
       "<table border=\"1\" class=\"dataframe\">\n",
       "  <thead>\n",
       "    <tr style=\"text-align: right;\">\n",
       "      <th></th>\n",
       "      <th>superflux</th>\n",
       "      <th>energy</th>\n",
       "      <th>rms</th>\n",
       "      <th>welch</th>\n",
       "      <th>mean</th>\n",
       "      <th>kurtosis</th>\n",
       "      <th>skew</th>\n",
       "      <th>onset</th>\n",
       "      <th>onset_pred</th>\n",
       "    </tr>\n",
       "  </thead>\n",
       "  <tbody>\n",
       "    <tr>\n",
       "      <th>0</th>\n",
       "      <td>-0.375481</td>\n",
       "      <td>0.604080</td>\n",
       "      <td>1.954407</td>\n",
       "      <td>-0.303588</td>\n",
       "      <td>0.494267</td>\n",
       "      <td>-0.033431</td>\n",
       "      <td>0.029730</td>\n",
       "      <td>0.0</td>\n",
       "      <td>0.0</td>\n",
       "    </tr>\n",
       "    <tr>\n",
       "      <th>1</th>\n",
       "      <td>-0.358944</td>\n",
       "      <td>0.524737</td>\n",
       "      <td>-0.122004</td>\n",
       "      <td>1.759861</td>\n",
       "      <td>0.022770</td>\n",
       "      <td>-0.028779</td>\n",
       "      <td>0.277972</td>\n",
       "      <td>0.0</td>\n",
       "      <td>0.0</td>\n",
       "    </tr>\n",
       "    <tr>\n",
       "      <th>2</th>\n",
       "      <td>-0.019515</td>\n",
       "      <td>0.054518</td>\n",
       "      <td>2.573981</td>\n",
       "      <td>-0.479156</td>\n",
       "      <td>0.085574</td>\n",
       "      <td>-0.034751</td>\n",
       "      <td>0.145491</td>\n",
       "      <td>0.0</td>\n",
       "      <td>0.0</td>\n",
       "    </tr>\n",
       "    <tr>\n",
       "      <th>3</th>\n",
       "      <td>-0.143112</td>\n",
       "      <td>-0.526454</td>\n",
       "      <td>-1.123926</td>\n",
       "      <td>0.473316</td>\n",
       "      <td>-1.317665</td>\n",
       "      <td>0.019635</td>\n",
       "      <td>-0.077732</td>\n",
       "      <td>0.0</td>\n",
       "      <td>0.0</td>\n",
       "    </tr>\n",
       "    <tr>\n",
       "      <th>4</th>\n",
       "      <td>-0.577057</td>\n",
       "      <td>1.764008</td>\n",
       "      <td>1.023584</td>\n",
       "      <td>2.632072</td>\n",
       "      <td>0.212222</td>\n",
       "      <td>-0.036090</td>\n",
       "      <td>0.090354</td>\n",
       "      <td>0.0</td>\n",
       "      <td>0.0</td>\n",
       "    </tr>\n",
       "    <tr>\n",
       "      <th>5</th>\n",
       "      <td>-0.510341</td>\n",
       "      <td>2.457729</td>\n",
       "      <td>0.035072</td>\n",
       "      <td>-0.827911</td>\n",
       "      <td>1.238821</td>\n",
       "      <td>-0.037591</td>\n",
       "      <td>0.014464</td>\n",
       "      <td>0.0</td>\n",
       "      <td>0.0</td>\n",
       "    </tr>\n",
       "    <tr>\n",
       "      <th>6</th>\n",
       "      <td>5.931833</td>\n",
       "      <td>0.033108</td>\n",
       "      <td>-0.909383</td>\n",
       "      <td>-0.839589</td>\n",
       "      <td>3.051326</td>\n",
       "      <td>-0.036383</td>\n",
       "      <td>-0.163929</td>\n",
       "      <td>0.0</td>\n",
       "      <td>0.0</td>\n",
       "    </tr>\n",
       "    <tr>\n",
       "      <th>7</th>\n",
       "      <td>-0.522458</td>\n",
       "      <td>-0.227400</td>\n",
       "      <td>-0.586668</td>\n",
       "      <td>3.590182</td>\n",
       "      <td>-0.170339</td>\n",
       "      <td>-0.041675</td>\n",
       "      <td>-0.020857</td>\n",
       "      <td>0.0</td>\n",
       "      <td>0.0</td>\n",
       "    </tr>\n",
       "    <tr>\n",
       "      <th>8</th>\n",
       "      <td>-0.515045</td>\n",
       "      <td>-0.612174</td>\n",
       "      <td>-1.480255</td>\n",
       "      <td>0.332753</td>\n",
       "      <td>0.722333</td>\n",
       "      <td>-0.046197</td>\n",
       "      <td>-0.024240</td>\n",
       "      <td>0.0</td>\n",
       "      <td>0.0</td>\n",
       "    </tr>\n",
       "  </tbody>\n",
       "</table>"
      ],
      "text/plain": [
       "<IPython.core.display.HTML object>"
      ]
     },
     "metadata": {},
     "output_type": "display_data"
    }
   ],
   "source": [
    "learn.show_results()"
   ]
  },
  {
   "cell_type": "code",
   "execution_count": 64,
   "id": "ee399269-9d6d-4e18-9e49-379e7792f60b",
   "metadata": {},
   "outputs": [
    {
     "data": {
      "text/html": [
       "\n",
       "<style>\n",
       "    /* Turns off some styling */\n",
       "    progress {\n",
       "        /* gets rid of default border in Firefox and Opera. */\n",
       "        border: none;\n",
       "        /* Needs to be in here for Safari polyfill so background images work as expected. */\n",
       "        background-size: auto;\n",
       "    }\n",
       "    .progress-bar-interrupted, .progress-bar-interrupted::-webkit-progress-bar {\n",
       "        background: #F44336;\n",
       "    }\n",
       "</style>\n"
      ],
      "text/plain": [
       "<IPython.core.display.HTML object>"
      ]
     },
     "metadata": {},
     "output_type": "display_data"
    },
    {
     "data": {
      "text/html": [],
      "text/plain": [
       "<IPython.core.display.HTML object>"
      ]
     },
     "metadata": {},
     "output_type": "display_data"
    },
    {
     "data": {
      "text/html": [
       "\n",
       "<style>\n",
       "    /* Turns off some styling */\n",
       "    progress {\n",
       "        /* gets rid of default border in Firefox and Opera. */\n",
       "        border: none;\n",
       "        /* Needs to be in here for Safari polyfill so background images work as expected. */\n",
       "        background-size: auto;\n",
       "    }\n",
       "    .progress-bar-interrupted, .progress-bar-interrupted::-webkit-progress-bar {\n",
       "        background: #F44336;\n",
       "    }\n",
       "</style>\n"
      ],
      "text/plain": [
       "<IPython.core.display.HTML object>"
      ]
     },
     "metadata": {},
     "output_type": "display_data"
    },
    {
     "data": {
      "text/html": [],
      "text/plain": [
       "<IPython.core.display.HTML object>"
      ]
     },
     "metadata": {},
     "output_type": "display_data"
    },
    {
     "data": {
      "text/html": [
       "<table border=\"1\" class=\"dataframe\">\n",
       "  <thead>\n",
       "    <tr style=\"text-align: right;\">\n",
       "      <th></th>\n",
       "      <th>superflux</th>\n",
       "      <th>energy</th>\n",
       "      <th>rms</th>\n",
       "      <th>welch</th>\n",
       "      <th>mean</th>\n",
       "      <th>kurtosis</th>\n",
       "      <th>skew</th>\n",
       "      <th>onset</th>\n",
       "      <th>onset_pred</th>\n",
       "    </tr>\n",
       "  </thead>\n",
       "  <tbody>\n",
       "    <tr>\n",
       "      <th>0</th>\n",
       "      <td>-0.486576</td>\n",
       "      <td>0.155857</td>\n",
       "      <td>-1.124590</td>\n",
       "      <td>-0.617480</td>\n",
       "      <td>0.036634</td>\n",
       "      <td>-0.038860</td>\n",
       "      <td>0.007121</td>\n",
       "      <td>0.0</td>\n",
       "      <td>0.0</td>\n",
       "    </tr>\n",
       "    <tr>\n",
       "      <th>1</th>\n",
       "      <td>-0.483086</td>\n",
       "      <td>-0.100350</td>\n",
       "      <td>1.570325</td>\n",
       "      <td>-0.470810</td>\n",
       "      <td>4.122156</td>\n",
       "      <td>-0.037554</td>\n",
       "      <td>0.014106</td>\n",
       "      <td>0.0</td>\n",
       "      <td>0.0</td>\n",
       "    </tr>\n",
       "    <tr>\n",
       "      <th>2</th>\n",
       "      <td>1.373373</td>\n",
       "      <td>1.028265</td>\n",
       "      <td>0.749996</td>\n",
       "      <td>-0.427597</td>\n",
       "      <td>0.178182</td>\n",
       "      <td>0.015512</td>\n",
       "      <td>0.002377</td>\n",
       "      <td>1.0</td>\n",
       "      <td>0.0</td>\n",
       "    </tr>\n",
       "    <tr>\n",
       "      <th>3</th>\n",
       "      <td>-0.118327</td>\n",
       "      <td>-0.757696</td>\n",
       "      <td>0.696494</td>\n",
       "      <td>-0.822593</td>\n",
       "      <td>0.395532</td>\n",
       "      <td>-0.027449</td>\n",
       "      <td>-0.005354</td>\n",
       "      <td>0.0</td>\n",
       "      <td>1.0</td>\n",
       "    </tr>\n",
       "    <tr>\n",
       "      <th>4</th>\n",
       "      <td>-0.506538</td>\n",
       "      <td>-0.632999</td>\n",
       "      <td>-0.016817</td>\n",
       "      <td>1.400286</td>\n",
       "      <td>0.074789</td>\n",
       "      <td>-0.030398</td>\n",
       "      <td>-0.000245</td>\n",
       "      <td>0.0</td>\n",
       "      <td>1.0</td>\n",
       "    </tr>\n",
       "    <tr>\n",
       "      <th>5</th>\n",
       "      <td>0.733195</td>\n",
       "      <td>-0.229833</td>\n",
       "      <td>-1.434097</td>\n",
       "      <td>-0.281855</td>\n",
       "      <td>-0.191496</td>\n",
       "      <td>-0.029173</td>\n",
       "      <td>-0.059204</td>\n",
       "      <td>1.0</td>\n",
       "      <td>1.0</td>\n",
       "    </tr>\n",
       "    <tr>\n",
       "      <th>6</th>\n",
       "      <td>-0.571868</td>\n",
       "      <td>1.094025</td>\n",
       "      <td>-1.351354</td>\n",
       "      <td>-0.640643</td>\n",
       "      <td>-0.224887</td>\n",
       "      <td>-0.037760</td>\n",
       "      <td>-0.194943</td>\n",
       "      <td>0.0</td>\n",
       "      <td>0.0</td>\n",
       "    </tr>\n",
       "    <tr>\n",
       "      <th>7</th>\n",
       "      <td>1.049655</td>\n",
       "      <td>-0.786481</td>\n",
       "      <td>-0.266472</td>\n",
       "      <td>5.097051</td>\n",
       "      <td>4.575117</td>\n",
       "      <td>-0.035311</td>\n",
       "      <td>4.104929</td>\n",
       "      <td>1.0</td>\n",
       "      <td>1.0</td>\n",
       "    </tr>\n",
       "  </tbody>\n",
       "</table>"
      ],
      "text/plain": [
       "<IPython.core.display.HTML object>"
      ]
     },
     "metadata": {},
     "output_type": "display_data"
    }
   ],
   "source": [
    "interp = ClassificationInterpretation.from_learner(learn)\n",
    "interp.show_results(list(range(8)))"
   ]
  },
  {
   "cell_type": "code",
   "execution_count": 65,
   "id": "f47889f8-3257-4d70-9c6a-c61754d488de",
   "metadata": {},
   "outputs": [
    {
     "data": {
      "text/html": [
       "\n",
       "<style>\n",
       "    /* Turns off some styling */\n",
       "    progress {\n",
       "        /* gets rid of default border in Firefox and Opera. */\n",
       "        border: none;\n",
       "        /* Needs to be in here for Safari polyfill so background images work as expected. */\n",
       "        background-size: auto;\n",
       "    }\n",
       "    .progress-bar-interrupted, .progress-bar-interrupted::-webkit-progress-bar {\n",
       "        background: #F44336;\n",
       "    }\n",
       "</style>\n"
      ],
      "text/plain": [
       "<IPython.core.display.HTML object>"
      ]
     },
     "metadata": {},
     "output_type": "display_data"
    },
    {
     "data": {
      "text/html": [],
      "text/plain": [
       "<IPython.core.display.HTML object>"
      ]
     },
     "metadata": {},
     "output_type": "display_data"
    },
    {
     "data": {
      "image/png": "[encoded data removed]",
      "text/plain": [
       "<Figure size 432x288 with 1 Axes>"
      ]
     },
     "metadata": {
      "needs_background": "light"
     },
     "output_type": "display_data"
    }
   ],
   "source": [
    "interp.plot_confusion_matrix()"
   ]
  },
  {
   "cell_type": "code",
   "execution_count": 66,
   "id": "43ea5274-09cb-4031-84b6-32ca0f4e270e",
   "metadata": {},
   "outputs": [
    {
     "data": {
      "text/plain": [
       "Path('models/tabular.pth')"
      ]
     },
     "execution_count": 66,
     "metadata": {},
     "output_type": "execute_result"
    }
   ],
   "source": [
    "learn.save('tabular')"
   ]
  },
  {
   "cell_type": "code",
   "execution_count": 24,
   "id": "545c7dcb-6eae-45fb-88fe-7a90b9973bac",
   "metadata": {},
   "outputs": [],
   "source": [
    "learn = learn.load(\"tabular\")"
   ]
  },
  {
   "cell_type": "code",
   "execution_count": 18,
   "id": "553c13a9-159a-4c41-b319-7304c4af6dd9",
   "metadata": {},
   "outputs": [],
   "source": [
    "test_df = pd.read_csv('../data/processed/test/data.csv', low_memory=False)\n",
    "dl = learn.dls.test_dl(test_df)"
   ]
  },
  {
   "cell_type": "code",
   "execution_count": 19,
   "id": "f2dab4bd-135b-4219-ad07-dd69e0086465",
   "metadata": {},
   "outputs": [
    {
     "data": {
      "text/html": [
       "\n",
       "<style>\n",
       "    /* Turns off some styling */\n",
       "    progress {\n",
       "        /* gets rid of default border in Firefox and Opera. */\n",
       "        border: none;\n",
       "        /* Needs to be in here for Safari polyfill so background images work as expected. */\n",
       "        background-size: auto;\n",
       "    }\n",
       "    .progress-bar-interrupted, .progress-bar-interrupted::-webkit-progress-bar {\n",
       "        background: #F44336;\n",
       "    }\n",
       "</style>\n"
      ],
      "text/plain": [
       "<IPython.core.display.HTML object>"
      ]
     },
     "metadata": {},
     "output_type": "display_data"
    },
    {
     "data": {
      "text/html": [],
      "text/plain": [
       "<IPython.core.display.HTML object>"
      ]
     },
     "metadata": {},
     "output_type": "display_data"
    },
    {
     "data": {
      "text/plain": [
       "(tensor([[0.5641, 0.4359],\n",
       "         [0.5202, 0.4798],\n",
       "         [0.5091, 0.4909],\n",
       "         ...,\n",
       "         [0.4771, 0.5229],\n",
       "         [0.4415, 0.5585],\n",
       "         [0.9893, 0.0107]]),\n",
       " None)"
      ]
     },
     "execution_count": 19,
     "metadata": {},
     "output_type": "execute_result"
    }
   ],
   "source": [
    "learn.get_preds(dl=dl)"
   ]
  },
  {
   "cell_type": "code",
   "execution_count": 23,
   "id": "140a629b-2ace-4d64-a730-eb117097f09b",
   "metadata": {},
   "outputs": [
    {
     "data": {
      "text/html": [
       "\n",
       "<style>\n",
       "    /* Turns off some styling */\n",
       "    progress {\n",
       "        /* gets rid of default border in Firefox and Opera. */\n",
       "        border: none;\n",
       "        /* Needs to be in here for Safari polyfill so background images work as expected. */\n",
       "        background-size: auto;\n",
       "    }\n",
       "    .progress-bar-interrupted, .progress-bar-interrupted::-webkit-progress-bar {\n",
       "        background: #F44336;\n",
       "    }\n",
       "</style>\n"
      ],
      "text/plain": [
       "<IPython.core.display.HTML object>"
      ]
     },
     "metadata": {},
     "output_type": "display_data"
    },
    {
     "data": {
      "text/html": [],
      "text/plain": [
       "<IPython.core.display.HTML object>"
      ]
     },
     "metadata": {},
     "output_type": "display_data"
    },
    {
     "data": {
      "text/html": [
       "\n",
       "<style>\n",
       "    /* Turns off some styling */\n",
       "    progress {\n",
       "        /* gets rid of default border in Firefox and Opera. */\n",
       "        border: none;\n",
       "        /* Needs to be in here for Safari polyfill so background images work as expected. */\n",
       "        background-size: auto;\n",
       "    }\n",
       "    .progress-bar-interrupted, .progress-bar-interrupted::-webkit-progress-bar {\n",
       "        background: #F44336;\n",
       "    }\n",
       "</style>\n"
      ],
      "text/plain": [
       "<IPython.core.display.HTML object>"
      ]
     },
     "metadata": {},
     "output_type": "display_data"
    },
    {
     "data": {
      "text/html": [],
      "text/plain": [
       "<IPython.core.display.HTML object>"
      ]
     },
     "metadata": {},
     "output_type": "display_data"
    },
    {
     "data": {
      "text/html": [
       "\n",
       "<style>\n",
       "    /* Turns off some styling */\n",
       "    progress {\n",
       "        /* gets rid of default border in Firefox and Opera. */\n",
       "        border: none;\n",
       "        /* Needs to be in here for Safari polyfill so background images work as expected. */\n",
       "        background-size: auto;\n",
       "    }\n",
       "    .progress-bar-interrupted, .progress-bar-interrupted::-webkit-progress-bar {\n",
       "        background: #F44336;\n",
       "    }\n",
       "</style>\n"
      ],
      "text/plain": [
       "<IPython.core.display.HTML object>"
      ]
     },
     "metadata": {},
     "output_type": "display_data"
    },
    {
     "data": {
      "text/html": [],
      "text/plain": [
       "<IPython.core.display.HTML object>"
      ]
     },
     "metadata": {},
     "output_type": "display_data"
    },
    {
     "data": {
      "text/html": [
       "\n",
       "<style>\n",
       "    /* Turns off some styling */\n",
       "    progress {\n",
       "        /* gets rid of default border in Firefox and Opera. */\n",
       "        border: none;\n",
       "        /* Needs to be in here for Safari polyfill so background images work as expected. */\n",
       "        background-size: auto;\n",
       "    }\n",
       "    .progress-bar-interrupted, .progress-bar-interrupted::-webkit-progress-bar {\n",
       "        background: #F44336;\n",
       "    }\n",
       "</style>\n"
      ],
      "text/plain": [
       "<IPython.core.display.HTML object>"
      ]
     },
     "metadata": {},
     "output_type": "display_data"
    },
    {
     "data": {
      "text/html": [],
      "text/plain": [
       "<IPython.core.display.HTML object>"
      ]
     },
     "metadata": {},
     "output_type": "display_data"
    }
   ],
   "source": [
    "dist_preds = []\n",
    "for i in range(4):\n",
    "    preds, targs = learn.get_preds(dl=dl,cbs=[MCDropoutCallback()])\n",
    "    dist_preds += [preds]\n",
    "\n",
    "preds = torch.stack(dist_preds)"
   ]
  },
  {
   "cell_type": "code",
   "execution_count": 24,
   "id": "f9d4da83-e065-4cbc-8427-4b3eb95d829e",
   "metadata": {},
   "outputs": [
    {
     "data": {
      "text/plain": [
       "tensor([[0.5759, 0.4241],\n",
       "        [0.5211, 0.4789],\n",
       "        [0.5102, 0.4898],\n",
       "        ...,\n",
       "        [0.4779, 0.5221],\n",
       "        [0.4473, 0.5527],\n",
       "        [0.9834, 0.0166]])"
      ]
     },
     "execution_count": 24,
     "metadata": {},
     "output_type": "execute_result"
    }
   ],
   "source": [
    "preds.mean(dim=0)"
   ]
  },
  {
   "cell_type": "code",
   "execution_count": 27,
   "id": "ced1c092-5c09-4aff-9946-9301b37d678d",
   "metadata": {},
   "outputs": [],
   "source": [
    "# decision tree\n",
    "xs,y = to.train.xs,to.train.y\n",
    "valid_xs,valid_y = to.valid.xs,to.valid.y\n",
    "\n",
    "m = DecisionTreeRegressor(max_leaf_nodes=4)\n",
    "m.fit(xs, y);"
   ]
  },
  {
   "cell_type": "code",
   "execution_count": 28,
   "id": "b9dec186-a061-4e88-8de1-4385f876fdce",
   "metadata": {},
   "outputs": [],
   "source": [
    "def rf(xs, y, n_estimators=40, max_samples=train_len,\n",
    "       max_features=0.5, min_samples_leaf=5, **kwargs):\n",
    "    return RandomForestRegressor(n_jobs=-1, n_estimators=n_estimators,\n",
    "        max_samples=max_samples, max_features=max_features,\n",
    "        min_samples_leaf=min_samples_leaf, oob_score=True).fit(xs, y)\n",
    "\n",
    "m = rf(xs, y);"
   ]
  },
  {
   "cell_type": "code",
   "execution_count": 29,
   "id": "9923f06e-5b81-4fda-a680-1e10b930a72a",
   "metadata": {},
   "outputs": [
    {
     "data": {
      "text/html": [
       "<style>#sk-container-id-1 {color: black;background-color: white;}#sk-container-id-1 pre{padding: 0;}#sk-container-id-1 div.sk-toggleable {background-color: white;}#sk-container-id-1 label.sk-toggleable__label {cursor: pointer;display: block;width: 100%;margin-bottom: 0;padding: 0.3em;box-sizing: border-box;text-align: center;}#sk-container-id-1 label.sk-toggleable__label-arrow:before {content: \"▸\";float: left;margin-right: 0.25em;color: #696969;}#sk-container-id-1 label.sk-toggleable__label-arrow:hover:before {color: black;}#sk-container-id-1 div.sk-estimator:hover label.sk-toggleable__label-arrow:before {color: black;}#sk-container-id-1 div.sk-toggleable__content {max-height: 0;max-width: 0;overflow: hidden;text-align: left;background-color: #f0f8ff;}#sk-container-id-1 div.sk-toggleable__content pre {margin: 0.2em;color: black;border-radius: 0.25em;background-color: #f0f8ff;}#sk-container-id-1 input.sk-toggleable__control:checked~div.sk-toggleable__content {max-height: 200px;max-width: 100%;overflow: auto;}#sk-container-id-1 input.sk-toggleable__control:checked~label.sk-toggleable__label-arrow:before {content: \"▾\";}#sk-container-id-1 div.sk-estimator input.sk-toggleable__control:checked~label.sk-toggleable__label {background-color: #d4ebff;}#sk-container-id-1 div.sk-label input.sk-toggleable__control:checked~label.sk-toggleable__label {background-color: #d4ebff;}#sk-container-id-1 input.sk-hidden--visually {border: 0;clip: rect(1px 1px 1px 1px);clip: rect(1px, 1px, 1px, 1px);height: 1px;margin: -1px;overflow: hidden;padding: 0;position: absolute;width: 1px;}#sk-container-id-1 div.sk-estimator {font-family: monospace;background-color: #f0f8ff;border: 1px dotted black;border-radius: 0.25em;box-sizing: border-box;margin-bottom: 0.5em;}#sk-container-id-1 div.sk-estimator:hover {background-color: #d4ebff;}#sk-container-id-1 div.sk-parallel-item::after {content: \"\";width: 100%;border-bottom: 1px solid gray;flex-grow: 1;}#sk-container-id-1 div.sk-label:hover label.sk-toggleable__label {background-color: #d4ebff;}#sk-container-id-1 div.sk-serial::before {content: \"\";position: absolute;border-left: 1px solid gray;box-sizing: border-box;top: 0;bottom: 0;left: 50%;z-index: 0;}#sk-container-id-1 div.sk-serial {display: flex;flex-direction: column;align-items: center;background-color: white;padding-right: 0.2em;padding-left: 0.2em;position: relative;}#sk-container-id-1 div.sk-item {position: relative;z-index: 1;}#sk-container-id-1 div.sk-parallel {display: flex;align-items: stretch;justify-content: center;background-color: white;position: relative;}#sk-container-id-1 div.sk-item::before, #sk-container-id-1 div.sk-parallel-item::before {content: \"\";position: absolute;border-left: 1px solid gray;box-sizing: border-box;top: 0;bottom: 0;left: 50%;z-index: -1;}#sk-container-id-1 div.sk-parallel-item {display: flex;flex-direction: column;z-index: 1;position: relative;background-color: white;}#sk-container-id-1 div.sk-parallel-item:first-child::after {align-self: flex-end;width: 50%;}#sk-container-id-1 div.sk-parallel-item:last-child::after {align-self: flex-start;width: 50%;}#sk-container-id-1 div.sk-parallel-item:only-child::after {width: 0;}#sk-container-id-1 div.sk-dashed-wrapped {border: 1px dashed gray;margin: 0 0.4em 0.5em 0.4em;box-sizing: border-box;padding-bottom: 0.4em;background-color: white;}#sk-container-id-1 div.sk-label label {font-family: monospace;font-weight: bold;display: inline-block;line-height: 1.2em;}#sk-container-id-1 div.sk-label-container {text-align: center;}#sk-container-id-1 div.sk-container {/* jupyter's `normalize.less` sets `[hidden] { display: none; }` but bootstrap.min.css set `[hidden] { display: none !important; }` so we also need the `!important` here to be able to override the default hidden behavior on the sphinx rendered scikit-learn.org. See: https://github.com/scikit-learn/scikit-learn/issues/21755 */display: inline-block !important;position: relative;}#sk-container-id-1 div.sk-text-repr-fallback {display: none;}</style><div id=\"sk-container-id-1\" class=\"sk-top-container\"><div class=\"sk-text-repr-fallback\"><pre>RandomForestRegressor(max_features=0.5, max_samples=19856, min_samples_leaf=5,\n",
       "                      n_estimators=40, n_jobs=-1, oob_score=True)</pre><b>In a Jupyter environment, please rerun this cell to show the HTML representation or trust the notebook. <br />On GitHub, the HTML representation is unable to render, please try loading this page with nbviewer.org.</b></div><div class=\"sk-container\" hidden><div class=\"sk-item\"><div class=\"sk-estimator sk-toggleable\"><input class=\"sk-toggleable__control sk-hidden--visually\" id=\"sk-estimator-id-1\" type=\"checkbox\" checked><label for=\"sk-estimator-id-1\" class=\"sk-toggleable__label sk-toggleable__label-arrow\">RandomForestRegressor</label><div class=\"sk-toggleable__content\"><pre>RandomForestRegressor(max_features=0.5, max_samples=19856, min_samples_leaf=5,\n",
       "                      n_estimators=40, n_jobs=-1, oob_score=True)</pre></div></div></div></div></div>"
      ],
      "text/plain": [
       "RandomForestRegressor(max_features=0.5, max_samples=19856, min_samples_leaf=5,\n",
       "                      n_estimators=40, n_jobs=-1, oob_score=True)"
      ]
     },
     "execution_count": 29,
     "metadata": {},
     "output_type": "execute_result"
    }
   ],
   "source": [
    "m"
   ]
  },
  {
   "cell_type": "code",
   "execution_count": null,
   "id": "86c53030-5501-4512-9929-f1f902ff4790",
   "metadata": {},
   "outputs": [],
   "source": []
  }
 ],
 "metadata": {
  "kernelspec": {
   "display_name": "Python 3 (ipykernel)",
   "language": "python",
   "name": "python3"
  },
  "language_info": {
   "codemirror_mode": {
    "name": "ipython",
    "version": 3
   },
   "file_extension": ".py",
   "mimetype": "text/x-python",
   "name": "python",
   "nbconvert_exporter": "python",
   "pygments_lexer": "ipython3",
   "version": "3.9.5"
  }
 },
 "nbformat": 4,
 "nbformat_minor": 5
}
