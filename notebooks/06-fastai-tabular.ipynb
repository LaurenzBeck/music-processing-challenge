{
 "cells": [
  {
   "cell_type": "code",
   "execution_count": 1,
   "id": "24953308-b56f-4140-9d41-219522a855d6",
   "metadata": {},
   "outputs": [
    {
     "name": "stderr",
     "output_type": "stream",
     "text": [
      "/home/laurenz/.cache/pypoetry/virtualenvs/music-processing-6AESlpXO-py3.9/lib/python3.9/site-packages/tqdm/auto.py:22: TqdmWarning: IProgress not found. Please update jupyter and ipywidgets. See https://ipywidgets.readthedocs.io/en/stable/user_install.html\n",
      "  from .autonotebook import tqdm as notebook_tqdm\n",
      "/home/laurenz/.cache/pypoetry/virtualenvs/music-processing-6AESlpXO-py3.9/lib/python3.9/site-packages/torch/cuda/__init__.py:82: UserWarning: CUDA initialization: CUDA unknown error - this may be due to an incorrectly set up environment, e.g. changing env variable CUDA_VISIBLE_DEVICES after program start. Setting the available devices to be zero. (Triggered internally at  ../c10/cuda/CUDAFunctions.cpp:112.)\n",
      "  return torch._C._cuda_getDeviceCount() > 0\n"
     ]
    }
   ],
   "source": [
    "import pandas as pd\n",
    "from fastai.tabular.all import *\n",
    "from sklearn.ensemble import RandomForestRegressor\n",
    "from sklearn.tree import DecisionTreeRegressor"
   ]
  },
  {
   "cell_type": "code",
   "execution_count": 2,
   "id": "5b75ffac-1d81-4f4e-892e-31103c37acbe",
   "metadata": {},
   "outputs": [
    {
     "data": {
      "text/html": [
       "<div>\n",
       "<style scoped>\n",
       "    .dataframe tbody tr th:only-of-type {\n",
       "        vertical-align: middle;\n",
       "    }\n",
       "\n",
       "    .dataframe tbody tr th {\n",
       "        vertical-align: top;\n",
       "    }\n",
       "\n",
       "    .dataframe thead th {\n",
       "        text-align: right;\n",
       "    }\n",
       "</style>\n",
       "<table border=\"1\" class=\"dataframe\">\n",
       "  <thead>\n",
       "    <tr style=\"text-align: right;\">\n",
       "      <th></th>\n",
       "      <th>file</th>\n",
       "      <th>superflux</th>\n",
       "      <th>energy</th>\n",
       "      <th>rms</th>\n",
       "      <th>sound_preassure_level</th>\n",
       "      <th>welch</th>\n",
       "      <th>mean</th>\n",
       "      <th>kurtosis</th>\n",
       "      <th>skew</th>\n",
       "      <th>variation</th>\n",
       "      <th>onset</th>\n",
       "      <th>timestamps</th>\n",
       "    </tr>\n",
       "  </thead>\n",
       "  <tbody>\n",
       "    <tr>\n",
       "      <th>0</th>\n",
       "      <td>train15</td>\n",
       "      <td>0.00000</td>\n",
       "      <td>8.041827e+09</td>\n",
       "      <td>3488.6445</td>\n",
       "      <td>-27.99103</td>\n",
       "      <td>0.24566</td>\n",
       "      <td>7.27979</td>\n",
       "      <td>5.66854</td>\n",
       "      <td>0.66392</td>\n",
       "      <td>214.39178</td>\n",
       "      <td>True</td>\n",
       "      <td>0.05</td>\n",
       "    </tr>\n",
       "    <tr>\n",
       "      <th>1</th>\n",
       "      <td>train15</td>\n",
       "      <td>0.19733</td>\n",
       "      <td>9.045935e+10</td>\n",
       "      <td>3897.6077</td>\n",
       "      <td>-23.72058</td>\n",
       "      <td>0.51078</td>\n",
       "      <td>-7.27783</td>\n",
       "      <td>5.36980</td>\n",
       "      <td>-0.26708</td>\n",
       "      <td>-24.42528</td>\n",
       "      <td>False</td>\n",
       "      <td>0.15</td>\n",
       "    </tr>\n",
       "    <tr>\n",
       "      <th>2</th>\n",
       "      <td>train15</td>\n",
       "      <td>0.00524</td>\n",
       "      <td>1.485465e+10</td>\n",
       "      <td>7424.0470</td>\n",
       "      <td>-24.04445</td>\n",
       "      <td>0.46147</td>\n",
       "      <td>-128.42920</td>\n",
       "      <td>-0.45575</td>\n",
       "      <td>-0.06433</td>\n",
       "      <td>-8.65492</td>\n",
       "      <td>False</td>\n",
       "      <td>0.25</td>\n",
       "    </tr>\n",
       "    <tr>\n",
       "      <th>3</th>\n",
       "      <td>train15</td>\n",
       "      <td>0.24321</td>\n",
       "      <td>9.432419e+09</td>\n",
       "      <td>4177.3193</td>\n",
       "      <td>-24.45488</td>\n",
       "      <td>0.50651</td>\n",
       "      <td>88.71777</td>\n",
       "      <td>0.35231</td>\n",
       "      <td>-0.06460</td>\n",
       "      <td>-16.05690</td>\n",
       "      <td>True</td>\n",
       "      <td>0.35</td>\n",
       "    </tr>\n",
       "    <tr>\n",
       "      <th>4</th>\n",
       "      <td>train15</td>\n",
       "      <td>0.00758</td>\n",
       "      <td>1.265973e+10</td>\n",
       "      <td>4192.2030</td>\n",
       "      <td>-24.37645</td>\n",
       "      <td>0.51467</td>\n",
       "      <td>84.33740</td>\n",
       "      <td>-0.21253</td>\n",
       "      <td>-0.49508</td>\n",
       "      <td>14.18289</td>\n",
       "      <td>True</td>\n",
       "      <td>0.45</td>\n",
       "    </tr>\n",
       "  </tbody>\n",
       "</table>\n",
       "</div>"
      ],
      "text/plain": [
       "      file  superflux        energy        rms  sound_preassure_level  \\\n",
       "0  train15    0.00000  8.041827e+09  3488.6445              -27.99103   \n",
       "1  train15    0.19733  9.045935e+10  3897.6077              -23.72058   \n",
       "2  train15    0.00524  1.485465e+10  7424.0470              -24.04445   \n",
       "3  train15    0.24321  9.432419e+09  4177.3193              -24.45488   \n",
       "4  train15    0.00758  1.265973e+10  4192.2030              -24.37645   \n",
       "\n",
       "     welch       mean  kurtosis     skew  variation  onset  timestamps  \n",
       "0  0.24566    7.27979   5.66854  0.66392  214.39178   True        0.05  \n",
       "1  0.51078   -7.27783   5.36980 -0.26708  -24.42528  False        0.15  \n",
       "2  0.46147 -128.42920  -0.45575 -0.06433   -8.65492  False        0.25  \n",
       "3  0.50651   88.71777   0.35231 -0.06460  -16.05690   True        0.35  \n",
       "4  0.51467   84.33740  -0.21253 -0.49508   14.18289   True        0.45  "
      ]
     },
     "execution_count": 2,
     "metadata": {},
     "output_type": "execute_result"
    }
   ],
   "source": [
    "df = pd.read_csv('../data/processed/train/data.csv', low_memory=False)\n",
    "df_val = pd.read_csv('../data/processed/val/data.csv', low_memory=False)\n",
    "df.head()"
   ]
  },
  {
   "cell_type": "code",
   "execution_count": 3,
   "id": "e3aca683-cc94-4e02-96e8-27325e8288a9",
   "metadata": {},
   "outputs": [
    {
     "name": "stdout",
     "output_type": "stream",
     "text": [
      "<class 'pandas.core.frame.DataFrame'>\n",
      "RangeIndex: 19856 entries, 0 to 19855\n",
      "Data columns (total 12 columns):\n",
      " #   Column                 Non-Null Count  Dtype  \n",
      "---  ------                 --------------  -----  \n",
      " 0   file                   19856 non-null  object \n",
      " 1   superflux              19856 non-null  float64\n",
      " 2   energy                 19856 non-null  float64\n",
      " 3   rms                    19856 non-null  float64\n",
      " 4   sound_preassure_level  19856 non-null  float64\n",
      " 5   welch                  19856 non-null  float64\n",
      " 6   mean                   19856 non-null  float64\n",
      " 7   kurtosis               19856 non-null  float64\n",
      " 8   skew                   19856 non-null  float64\n",
      " 9   variation              19846 non-null  float64\n",
      " 10  onset                  19856 non-null  bool   \n",
      " 11  timestamps             19856 non-null  float64\n",
      "dtypes: bool(1), float64(10), object(1)\n",
      "memory usage: 1.7+ MB\n"
     ]
    }
   ],
   "source": [
    "df.info()"
   ]
  },
  {
   "cell_type": "code",
   "execution_count": 4,
   "id": "5677b66a-33a2-4dd5-bbde-47cc4f5070db",
   "metadata": {},
   "outputs": [],
   "source": [
    "train_len = len(df)"
   ]
  },
  {
   "cell_type": "code",
   "execution_count": 5,
   "id": "fc127049-de4d-4b96-bdd3-31773932ef73",
   "metadata": {},
   "outputs": [],
   "source": [
    "df = pd.concat([df, df_val])"
   ]
  },
  {
   "cell_type": "code",
   "execution_count": 6,
   "id": "2d9d4522-4cb1-47a7-81a8-d1e5bb0b226f",
   "metadata": {},
   "outputs": [],
   "source": [
    "splits = (list(range_of(df)[:train_len]),list(range_of(df)[train_len:]))"
   ]
  },
  {
   "cell_type": "code",
   "execution_count": 7,
   "id": "27fa4f15-b5b2-4fa9-8a1f-83697892f998",
   "metadata": {},
   "outputs": [],
   "source": [
    "procs = [Normalize]"
   ]
  },
  {
   "cell_type": "code",
   "execution_count": 8,
   "id": "73bfb8e4-a524-430d-8282-7e65f732b106",
   "metadata": {},
   "outputs": [],
   "source": [
    "cont,cat = cont_cat_split(df.loc[:, ~df.columns.isin(['file', 'timestamps', 'sound_preassure_level', 'variation'])], 1, dep_var=\"onset\")"
   ]
  },
  {
   "cell_type": "code",
   "execution_count": 9,
   "id": "bedc5273-762c-4a75-9f1a-35c82781030f",
   "metadata": {},
   "outputs": [
    {
     "data": {
      "text/plain": [
       "['superflux', 'energy', 'rms', 'welch', 'mean', 'kurtosis', 'skew']"
      ]
     },
     "execution_count": 9,
     "metadata": {},
     "output_type": "execute_result"
    }
   ],
   "source": [
    "cont"
   ]
  },
  {
   "cell_type": "code",
   "execution_count": 10,
   "id": "4fd68bd6-6134-482c-9a0b-4c358d008ca1",
   "metadata": {},
   "outputs": [
    {
     "data": {
      "text/plain": [
       "[]"
      ]
     },
     "execution_count": 10,
     "metadata": {},
     "output_type": "execute_result"
    }
   ],
   "source": [
    "cat"
   ]
  },
  {
   "cell_type": "code",
   "execution_count": 11,
   "id": "e9e4b0db-62f6-4a3d-8579-ad27701a3c89",
   "metadata": {},
   "outputs": [],
   "source": [
    "to = TabularPandas(df, procs=procs, cont_names=cont, y_names=\"onset\", splits=splits)"
   ]
  },
  {
   "cell_type": "code",
   "execution_count": 12,
   "id": "c474777f-159b-44da-9884-a51aacdb7ea6",
   "metadata": {},
   "outputs": [
    {
     "data": {
      "text/plain": [
       "(19856, 4630)"
      ]
     },
     "execution_count": 12,
     "metadata": {},
     "output_type": "execute_result"
    }
   ],
   "source": [
    "len(to.train),len(to.valid)"
   ]
  },
  {
   "cell_type": "code",
   "execution_count": 13,
   "id": "90e0cfa3-3dc6-4462-b2a9-f4e10cd8160a",
   "metadata": {},
   "outputs": [
    {
     "data": {
      "text/html": [
       "<table border=\"1\" class=\"dataframe\">\n",
       "  <thead>\n",
       "    <tr style=\"text-align: right;\">\n",
       "      <th></th>\n",
       "      <th>superflux</th>\n",
       "      <th>energy</th>\n",
       "      <th>rms</th>\n",
       "      <th>welch</th>\n",
       "      <th>mean</th>\n",
       "      <th>kurtosis</th>\n",
       "      <th>skew</th>\n",
       "      <th>onset</th>\n",
       "    </tr>\n",
       "  </thead>\n",
       "  <tbody>\n",
       "    <tr>\n",
       "      <th>0</th>\n",
       "      <td>0.00000</td>\n",
       "      <td>8.041828e+09</td>\n",
       "      <td>3488.644531</td>\n",
       "      <td>0.0</td>\n",
       "      <td>7.279790</td>\n",
       "      <td>5.66854</td>\n",
       "      <td>0.66392</td>\n",
       "      <td>True</td>\n",
       "    </tr>\n",
       "    <tr>\n",
       "      <th>1</th>\n",
       "      <td>0.19733</td>\n",
       "      <td>9.045935e+10</td>\n",
       "      <td>3897.607666</td>\n",
       "      <td>0.0</td>\n",
       "      <td>-7.277830</td>\n",
       "      <td>5.36980</td>\n",
       "      <td>-0.26708</td>\n",
       "      <td>False</td>\n",
       "    </tr>\n",
       "    <tr>\n",
       "      <th>2</th>\n",
       "      <td>0.00524</td>\n",
       "      <td>1.485465e+10</td>\n",
       "      <td>7424.046875</td>\n",
       "      <td>0.0</td>\n",
       "      <td>-128.429199</td>\n",
       "      <td>-0.45575</td>\n",
       "      <td>-0.06433</td>\n",
       "      <td>False</td>\n",
       "    </tr>\n",
       "  </tbody>\n",
       "</table>"
      ],
      "text/plain": [
       "<IPython.core.display.HTML object>"
      ]
     },
     "metadata": {},
     "output_type": "display_data"
    }
   ],
   "source": [
    "to.show(3)"
   ]
  },
  {
   "cell_type": "code",
   "execution_count": 14,
   "id": "5590ae28-07a6-4e10-a136-4ca991135542",
   "metadata": {},
   "outputs": [
    {
     "data": {
      "text/html": [
       "<div>\n",
       "<style scoped>\n",
       "    .dataframe tbody tr th:only-of-type {\n",
       "        vertical-align: middle;\n",
       "    }\n",
       "\n",
       "    .dataframe tbody tr th {\n",
       "        vertical-align: top;\n",
       "    }\n",
       "\n",
       "    .dataframe thead th {\n",
       "        text-align: right;\n",
       "    }\n",
       "</style>\n",
       "<table border=\"1\" class=\"dataframe\">\n",
       "  <thead>\n",
       "    <tr style=\"text-align: right;\">\n",
       "      <th></th>\n",
       "      <th>file</th>\n",
       "      <th>superflux</th>\n",
       "      <th>energy</th>\n",
       "      <th>rms</th>\n",
       "      <th>sound_preassure_level</th>\n",
       "      <th>welch</th>\n",
       "      <th>mean</th>\n",
       "      <th>kurtosis</th>\n",
       "      <th>skew</th>\n",
       "      <th>variation</th>\n",
       "      <th>onset</th>\n",
       "      <th>timestamps</th>\n",
       "    </tr>\n",
       "  </thead>\n",
       "  <tbody>\n",
       "    <tr>\n",
       "      <th>0</th>\n",
       "      <td>train15</td>\n",
       "      <td>-0.670074</td>\n",
       "      <td>-0.609744</td>\n",
       "      <td>-0.095604</td>\n",
       "      <td>-27.99103</td>\n",
       "      <td>-0.784001</td>\n",
       "      <td>0.014797</td>\n",
       "      <td>0.155890</td>\n",
       "      <td>0.814762</td>\n",
       "      <td>214.39178</td>\n",
       "      <td>1</td>\n",
       "      <td>0.05</td>\n",
       "    </tr>\n",
       "    <tr>\n",
       "      <th>1</th>\n",
       "      <td>train15</td>\n",
       "      <td>2.126108</td>\n",
       "      <td>0.820825</td>\n",
       "      <td>0.058200</td>\n",
       "      <td>-23.72058</td>\n",
       "      <td>-0.784001</td>\n",
       "      <td>-0.044730</td>\n",
       "      <td>0.146708</td>\n",
       "      <td>-0.361269</td>\n",
       "      <td>-24.42528</td>\n",
       "      <td>0</td>\n",
       "      <td>0.15</td>\n",
       "    </tr>\n",
       "    <tr>\n",
       "      <th>2</th>\n",
       "      <td>train15</td>\n",
       "      <td>-0.595823</td>\n",
       "      <td>-0.491490</td>\n",
       "      <td>1.384431</td>\n",
       "      <td>-24.04445</td>\n",
       "      <td>-0.784001</td>\n",
       "      <td>-0.540126</td>\n",
       "      <td>-0.032348</td>\n",
       "      <td>-0.105157</td>\n",
       "      <td>-8.65492</td>\n",
       "      <td>0</td>\n",
       "      <td>0.25</td>\n",
       "    </tr>\n",
       "  </tbody>\n",
       "</table>\n",
       "</div>"
      ],
      "text/plain": [
       "      file  superflux    energy       rms  sound_preassure_level     welch  \\\n",
       "0  train15  -0.670074 -0.609744 -0.095604              -27.99103 -0.784001   \n",
       "1  train15   2.126108  0.820825  0.058200              -23.72058 -0.784001   \n",
       "2  train15  -0.595823 -0.491490  1.384431              -24.04445 -0.784001   \n",
       "\n",
       "       mean  kurtosis      skew  variation  onset  timestamps  \n",
       "0  0.014797  0.155890  0.814762  214.39178      1        0.05  \n",
       "1 -0.044730  0.146708 -0.361269  -24.42528      0        0.15  \n",
       "2 -0.540126 -0.032348 -0.105157   -8.65492      0        0.25  "
      ]
     },
     "execution_count": 14,
     "metadata": {},
     "output_type": "execute_result"
    }
   ],
   "source": [
    "to.items.head(3)"
   ]
  },
  {
   "cell_type": "code",
   "execution_count": 15,
   "id": "a7c2244d-7cad-4ca4-aa86-f70eeff463a4",
   "metadata": {},
   "outputs": [],
   "source": [
    "dls = to.dataloaders(bs=32)"
   ]
  },
  {
   "cell_type": "code",
   "execution_count": 16,
   "id": "52fabe43-8e44-4228-8488-e165f9aa7cb8",
   "metadata": {},
   "outputs": [],
   "source": [
    "learn = tabular_learner(dls, metrics=accuracy)"
   ]
  },
  {
   "cell_type": "code",
   "execution_count": 27,
   "id": "3efa2f80-d831-4cde-bde9-45fc00a3cc95",
   "metadata": {},
   "outputs": [
    {
     "data": {
      "text/html": [
       "\n",
       "<style>\n",
       "    /* Turns off some styling */\n",
       "    progress {\n",
       "        /* gets rid of default border in Firefox and Opera. */\n",
       "        border: none;\n",
       "        /* Needs to be in here for Safari polyfill so background images work as expected. */\n",
       "        background-size: auto;\n",
       "    }\n",
       "    .progress-bar-interrupted, .progress-bar-interrupted::-webkit-progress-bar {\n",
       "        background: #F44336;\n",
       "    }\n",
       "</style>\n"
      ],
      "text/plain": [
       "<IPython.core.display.HTML object>"
      ]
     },
     "metadata": {},
     "output_type": "display_data"
    },
    {
     "data": {
      "text/html": [],
      "text/plain": [
       "<IPython.core.display.HTML object>"
      ]
     },
     "metadata": {},
     "output_type": "display_data"
    },
    {
     "data": {
      "text/plain": [
       "TabularModel (Input shape: 32 x 0)\n",
       "============================================================================\n",
       "Layer (type)         Output Shape         Param #    Trainable \n",
       "============================================================================\n",
       "                     32 x 7              \n",
       "BatchNorm1d                               14         True      \n",
       "____________________________________________________________________________\n",
       "                     32 x 200            \n",
       "Linear                                    1400       True      \n",
       "ReLU                                                           \n",
       "BatchNorm1d                               400        True      \n",
       "____________________________________________________________________________\n",
       "                     32 x 100            \n",
       "Linear                                    20000      True      \n",
       "ReLU                                                           \n",
       "BatchNorm1d                               200        True      \n",
       "____________________________________________________________________________\n",
       "                     32 x 2              \n",
       "Linear                                    202        True      \n",
       "____________________________________________________________________________\n",
       "\n",
       "Total params: 22,216\n",
       "Total trainable params: 22,216\n",
       "Total non-trainable params: 0\n",
       "\n",
       "Optimizer used: <function Adam at 0x7f50969c2b80>\n",
       "Loss function: FlattenedLoss of CrossEntropyLoss()\n",
       "\n",
       "Model unfrozen\n",
       "\n",
       "Callbacks:\n",
       "  - TrainEvalCallback\n",
       "  - Recorder\n",
       "  - ProgressCallback"
      ]
     },
     "execution_count": 27,
     "metadata": {},
     "output_type": "execute_result"
    }
   ],
   "source": [
    "learn.summary()"
   ]
  },
  {
   "cell_type": "code",
   "execution_count": 17,
   "id": "c5adadcb-bc81-4aee-843f-909496a5cacd",
   "metadata": {},
   "outputs": [
    {
     "data": {
      "text/html": [
       "\n",
       "<style>\n",
       "    /* Turns off some styling */\n",
       "    progress {\n",
       "        /* gets rid of default border in Firefox and Opera. */\n",
       "        border: none;\n",
       "        /* Needs to be in here for Safari polyfill so background images work as expected. */\n",
       "        background-size: auto;\n",
       "    }\n",
       "    .progress-bar-interrupted, .progress-bar-interrupted::-webkit-progress-bar {\n",
       "        background: #F44336;\n",
       "    }\n",
       "</style>\n"
      ],
      "text/plain": [
       "<IPython.core.display.HTML object>"
      ]
     },
     "metadata": {},
     "output_type": "display_data"
    },
    {
     "data": {
      "text/html": [],
      "text/plain": [
       "<IPython.core.display.HTML object>"
      ]
     },
     "metadata": {},
     "output_type": "display_data"
    },
    {
     "data": {
      "text/plain": [
       "SuggestedLRs(valley=0.00015848931798245758)"
      ]
     },
     "execution_count": 17,
     "metadata": {},
     "output_type": "execute_result"
    },
    {
     "data": {
      "image/png": "[encoded data removed]",
      "text/plain": [
       "<Figure size 432x288 with 1 Axes>"
      ]
     },
     "metadata": {
      "needs_background": "light"
     },
     "output_type": "display_data"
    }
   ],
   "source": [
    "learn.lr_find()"
   ]
  },
  {
   "cell_type": "code",
   "execution_count": 18,
   "id": "393dd88f-40c5-4e97-8853-3b83575b3411",
   "metadata": {},
   "outputs": [
    {
     "data": {
      "text/html": [
       "\n",
       "<style>\n",
       "    /* Turns off some styling */\n",
       "    progress {\n",
       "        /* gets rid of default border in Firefox and Opera. */\n",
       "        border: none;\n",
       "        /* Needs to be in here for Safari polyfill so background images work as expected. */\n",
       "        background-size: auto;\n",
       "    }\n",
       "    .progress-bar-interrupted, .progress-bar-interrupted::-webkit-progress-bar {\n",
       "        background: #F44336;\n",
       "    }\n",
       "</style>\n"
      ],
      "text/plain": [
       "<IPython.core.display.HTML object>"
      ]
     },
     "metadata": {},
     "output_type": "display_data"
    },
    {
     "data": {
      "text/html": [
       "<table border=\"1\" class=\"dataframe\">\n",
       "  <thead>\n",
       "    <tr style=\"text-align: left;\">\n",
       "      <th>epoch</th>\n",
       "      <th>train_loss</th>\n",
       "      <th>valid_loss</th>\n",
       "      <th>accuracy</th>\n",
       "      <th>time</th>\n",
       "    </tr>\n",
       "  </thead>\n",
       "  <tbody>\n",
       "    <tr>\n",
       "      <td>0</td>\n",
       "      <td>0.703875</td>\n",
       "      <td>0.705371</td>\n",
       "      <td>0.511231</td>\n",
       "      <td>00:18</td>\n",
       "    </tr>\n",
       "    <tr>\n",
       "      <td>1</td>\n",
       "      <td>0.701951</td>\n",
       "      <td>0.717134</td>\n",
       "      <td>0.489201</td>\n",
       "      <td>00:16</td>\n",
       "    </tr>\n",
       "    <tr>\n",
       "      <td>2</td>\n",
       "      <td>0.695418</td>\n",
       "      <td>0.697594</td>\n",
       "      <td>0.510367</td>\n",
       "      <td>00:17</td>\n",
       "    </tr>\n",
       "    <tr>\n",
       "      <td>3</td>\n",
       "      <td>0.692333</td>\n",
       "      <td>0.709563</td>\n",
       "      <td>0.494168</td>\n",
       "      <td>00:22</td>\n",
       "    </tr>\n",
       "    <tr>\n",
       "      <td>4</td>\n",
       "      <td>0.692900</td>\n",
       "      <td>0.695887</td>\n",
       "      <td>0.531533</td>\n",
       "      <td>00:19</td>\n",
       "    </tr>\n",
       "    <tr>\n",
       "      <td>5</td>\n",
       "      <td>0.688293</td>\n",
       "      <td>0.701623</td>\n",
       "      <td>0.523974</td>\n",
       "      <td>00:16</td>\n",
       "    </tr>\n",
       "    <tr>\n",
       "      <td>6</td>\n",
       "      <td>0.688101</td>\n",
       "      <td>0.696337</td>\n",
       "      <td>0.526134</td>\n",
       "      <td>00:15</td>\n",
       "    </tr>\n",
       "    <tr>\n",
       "      <td>7</td>\n",
       "      <td>0.691464</td>\n",
       "      <td>0.696770</td>\n",
       "      <td>0.520086</td>\n",
       "      <td>00:16</td>\n",
       "    </tr>\n",
       "  </tbody>\n",
       "</table>"
      ],
      "text/plain": [
       "<IPython.core.display.HTML object>"
      ]
     },
     "metadata": {},
     "output_type": "display_data"
    }
   ],
   "source": [
    "learn.fit_one_cycle(8, 4e-4)"
   ]
  },
  {
   "cell_type": "code",
   "execution_count": 19,
   "id": "07ebd862-a5e4-4845-a927-5c4f04a9d545",
   "metadata": {},
   "outputs": [
    {
     "data": {
      "text/html": [
       "\n",
       "<style>\n",
       "    /* Turns off some styling */\n",
       "    progress {\n",
       "        /* gets rid of default border in Firefox and Opera. */\n",
       "        border: none;\n",
       "        /* Needs to be in here for Safari polyfill so background images work as expected. */\n",
       "        background-size: auto;\n",
       "    }\n",
       "    .progress-bar-interrupted, .progress-bar-interrupted::-webkit-progress-bar {\n",
       "        background: #F44336;\n",
       "    }\n",
       "</style>\n"
      ],
      "text/plain": [
       "<IPython.core.display.HTML object>"
      ]
     },
     "metadata": {},
     "output_type": "display_data"
    },
    {
     "data": {
      "text/html": [],
      "text/plain": [
       "<IPython.core.display.HTML object>"
      ]
     },
     "metadata": {},
     "output_type": "display_data"
    },
    {
     "data": {
      "text/html": [
       "<table border=\"1\" class=\"dataframe\">\n",
       "  <thead>\n",
       "    <tr style=\"text-align: right;\">\n",
       "      <th></th>\n",
       "      <th>superflux</th>\n",
       "      <th>energy</th>\n",
       "      <th>rms</th>\n",
       "      <th>welch</th>\n",
       "      <th>mean</th>\n",
       "      <th>kurtosis</th>\n",
       "      <th>skew</th>\n",
       "      <th>onset</th>\n",
       "      <th>onset_pred</th>\n",
       "    </tr>\n",
       "  </thead>\n",
       "  <tbody>\n",
       "    <tr>\n",
       "      <th>0</th>\n",
       "      <td>-0.387523</td>\n",
       "      <td>-0.245718</td>\n",
       "      <td>-0.459036</td>\n",
       "      <td>-0.408777</td>\n",
       "      <td>-4.732491</td>\n",
       "      <td>-0.040447</td>\n",
       "      <td>-0.418137</td>\n",
       "      <td>0.0</td>\n",
       "      <td>0.0</td>\n",
       "    </tr>\n",
       "    <tr>\n",
       "      <th>1</th>\n",
       "      <td>-0.371086</td>\n",
       "      <td>-0.749055</td>\n",
       "      <td>1.923096</td>\n",
       "      <td>-0.580441</td>\n",
       "      <td>-0.011029</td>\n",
       "      <td>0.001779</td>\n",
       "      <td>0.926112</td>\n",
       "      <td>1.0</td>\n",
       "      <td>1.0</td>\n",
       "    </tr>\n",
       "    <tr>\n",
       "      <th>2</th>\n",
       "      <td>1.465641</td>\n",
       "      <td>3.280730</td>\n",
       "      <td>-0.219593</td>\n",
       "      <td>-0.480517</td>\n",
       "      <td>0.247825</td>\n",
       "      <td>-0.003039</td>\n",
       "      <td>-0.035934</td>\n",
       "      <td>1.0</td>\n",
       "      <td>0.0</td>\n",
       "    </tr>\n",
       "    <tr>\n",
       "      <th>3</th>\n",
       "      <td>2.223882</td>\n",
       "      <td>-0.739778</td>\n",
       "      <td>3.246287</td>\n",
       "      <td>4.168862</td>\n",
       "      <td>0.256533</td>\n",
       "      <td>-0.052850</td>\n",
       "      <td>-0.110828</td>\n",
       "      <td>1.0</td>\n",
       "      <td>0.0</td>\n",
       "    </tr>\n",
       "    <tr>\n",
       "      <th>4</th>\n",
       "      <td>-0.256733</td>\n",
       "      <td>2.493588</td>\n",
       "      <td>0.190045</td>\n",
       "      <td>1.051366</td>\n",
       "      <td>0.285737</td>\n",
       "      <td>-0.042418</td>\n",
       "      <td>-0.274929</td>\n",
       "      <td>0.0</td>\n",
       "      <td>0.0</td>\n",
       "    </tr>\n",
       "    <tr>\n",
       "      <th>5</th>\n",
       "      <td>-0.497483</td>\n",
       "      <td>0.168288</td>\n",
       "      <td>-0.782636</td>\n",
       "      <td>2.142693</td>\n",
       "      <td>3.088432</td>\n",
       "      <td>-0.026926</td>\n",
       "      <td>-0.046583</td>\n",
       "      <td>1.0</td>\n",
       "      <td>0.0</td>\n",
       "    </tr>\n",
       "    <tr>\n",
       "      <th>6</th>\n",
       "      <td>-0.544811</td>\n",
       "      <td>-0.433236</td>\n",
       "      <td>1.333393</td>\n",
       "      <td>-0.733678</td>\n",
       "      <td>0.870469</td>\n",
       "      <td>-0.019890</td>\n",
       "      <td>1.638590</td>\n",
       "      <td>1.0</td>\n",
       "      <td>1.0</td>\n",
       "    </tr>\n",
       "    <tr>\n",
       "      <th>7</th>\n",
       "      <td>-0.451147</td>\n",
       "      <td>0.162848</td>\n",
       "      <td>1.988933</td>\n",
       "      <td>3.463105</td>\n",
       "      <td>-0.028654</td>\n",
       "      <td>-0.018823</td>\n",
       "      <td>-0.136913</td>\n",
       "      <td>0.0</td>\n",
       "      <td>0.0</td>\n",
       "    </tr>\n",
       "    <tr>\n",
       "      <th>8</th>\n",
       "      <td>-0.669083</td>\n",
       "      <td>-0.376663</td>\n",
       "      <td>-0.600365</td>\n",
       "      <td>-0.350821</td>\n",
       "      <td>-1.339429</td>\n",
       "      <td>-0.046822</td>\n",
       "      <td>-0.074297</td>\n",
       "      <td>1.0</td>\n",
       "      <td>0.0</td>\n",
       "    </tr>\n",
       "  </tbody>\n",
       "</table>"
      ],
      "text/plain": [
       "<IPython.core.display.HTML object>"
      ]
     },
     "metadata": {},
     "output_type": "display_data"
    }
   ],
   "source": [
    "learn.show_results()"
   ]
  },
  {
   "cell_type": "code",
   "execution_count": 20,
   "id": "43ea5274-09cb-4031-84b6-32ca0f4e270e",
   "metadata": {},
   "outputs": [
    {
     "data": {
      "text/plain": [
       "Path('models/tabular.pth')"
      ]
     },
     "execution_count": 20,
     "metadata": {},
     "output_type": "execute_result"
    }
   ],
   "source": [
    "learn.save('tabular')"
   ]
  },
  {
   "cell_type": "code",
   "execution_count": 21,
   "id": "545c7dcb-6eae-45fb-88fe-7a90b9973bac",
   "metadata": {},
   "outputs": [],
   "source": [
    "learn = learn.load(\"tabular\")"
   ]
  },
  {
   "cell_type": "code",
   "execution_count": 22,
   "id": "553c13a9-159a-4c41-b319-7304c4af6dd9",
   "metadata": {},
   "outputs": [],
   "source": [
    "test_df = pd.read_csv('../data/processed/test/data.csv', low_memory=False)\n",
    "dl = learn.dls.test_dl(test_df)"
   ]
  },
  {
   "cell_type": "code",
   "execution_count": 23,
   "id": "f2dab4bd-135b-4219-ad07-dd69e0086465",
   "metadata": {},
   "outputs": [
    {
     "data": {
      "text/html": [
       "\n",
       "<style>\n",
       "    /* Turns off some styling */\n",
       "    progress {\n",
       "        /* gets rid of default border in Firefox and Opera. */\n",
       "        border: none;\n",
       "        /* Needs to be in here for Safari polyfill so background images work as expected. */\n",
       "        background-size: auto;\n",
       "    }\n",
       "    .progress-bar-interrupted, .progress-bar-interrupted::-webkit-progress-bar {\n",
       "        background: #F44336;\n",
       "    }\n",
       "</style>\n"
      ],
      "text/plain": [
       "<IPython.core.display.HTML object>"
      ]
     },
     "metadata": {},
     "output_type": "display_data"
    },
    {
     "data": {
      "text/html": [],
      "text/plain": [
       "<IPython.core.display.HTML object>"
      ]
     },
     "metadata": {},
     "output_type": "display_data"
    },
    {
     "data": {
      "text/plain": [
       "(tensor([[0.5230, 0.4770],\n",
       "         [0.4952, 0.5048],\n",
       "         [0.4902, 0.5098],\n",
       "         ...,\n",
       "         [0.4476, 0.5524],\n",
       "         [0.4066, 0.5934],\n",
       "         [0.4970, 0.5030]]),\n",
       " None)"
      ]
     },
     "execution_count": 23,
     "metadata": {},
     "output_type": "execute_result"
    }
   ],
   "source": [
    "learn.get_preds(dl=dl)"
   ]
  },
  {
   "cell_type": "code",
   "execution_count": 24,
   "id": "ced1c092-5c09-4aff-9946-9301b37d678d",
   "metadata": {},
   "outputs": [],
   "source": [
    "# decision tree\n",
    "xs,y = to.train.xs,to.train.y\n",
    "valid_xs,valid_y = to.valid.xs,to.valid.y\n",
    "\n",
    "m = DecisionTreeRegressor(max_leaf_nodes=4)\n",
    "m.fit(xs, y);"
   ]
  },
  {
   "cell_type": "code",
   "execution_count": 25,
   "id": "b9dec186-a061-4e88-8de1-4385f876fdce",
   "metadata": {},
   "outputs": [],
   "source": [
    "def rf(xs, y, n_estimators=40, max_samples=train_len,\n",
    "       max_features=0.5, min_samples_leaf=5, **kwargs):\n",
    "    return RandomForestRegressor(n_jobs=-1, n_estimators=n_estimators,\n",
    "        max_samples=max_samples, max_features=max_features,\n",
    "        min_samples_leaf=min_samples_leaf, oob_score=True).fit(xs, y)\n",
    "\n",
    "m = rf(xs, y);"
   ]
  },
  {
   "cell_type": "code",
   "execution_count": 26,
   "id": "9923f06e-5b81-4fda-a680-1e10b930a72a",
   "metadata": {},
   "outputs": [
    {
     "data": {
      "text/html": [
       "<style>#sk-container-id-1 {color: black;background-color: white;}#sk-container-id-1 pre{padding: 0;}#sk-container-id-1 div.sk-toggleable {background-color: white;}#sk-container-id-1 label.sk-toggleable__label {cursor: pointer;display: block;width: 100%;margin-bottom: 0;padding: 0.3em;box-sizing: border-box;text-align: center;}#sk-container-id-1 label.sk-toggleable__label-arrow:before {content: \"▸\";float: left;margin-right: 0.25em;color: #696969;}#sk-container-id-1 label.sk-toggleable__label-arrow:hover:before {color: black;}#sk-container-id-1 div.sk-estimator:hover label.sk-toggleable__label-arrow:before {color: black;}#sk-container-id-1 div.sk-toggleable__content {max-height: 0;max-width: 0;overflow: hidden;text-align: left;background-color: #f0f8ff;}#sk-container-id-1 div.sk-toggleable__content pre {margin: 0.2em;color: black;border-radius: 0.25em;background-color: #f0f8ff;}#sk-container-id-1 input.sk-toggleable__control:checked~div.sk-toggleable__content {max-height: 200px;max-width: 100%;overflow: auto;}#sk-container-id-1 input.sk-toggleable__control:checked~label.sk-toggleable__label-arrow:before {content: \"▾\";}#sk-container-id-1 div.sk-estimator input.sk-toggleable__control:checked~label.sk-toggleable__label {background-color: #d4ebff;}#sk-container-id-1 div.sk-label input.sk-toggleable__control:checked~label.sk-toggleable__label {background-color: #d4ebff;}#sk-container-id-1 input.sk-hidden--visually {border: 0;clip: rect(1px 1px 1px 1px);clip: rect(1px, 1px, 1px, 1px);height: 1px;margin: -1px;overflow: hidden;padding: 0;position: absolute;width: 1px;}#sk-container-id-1 div.sk-estimator {font-family: monospace;background-color: #f0f8ff;border: 1px dotted black;border-radius: 0.25em;box-sizing: border-box;margin-bottom: 0.5em;}#sk-container-id-1 div.sk-estimator:hover {background-color: #d4ebff;}#sk-container-id-1 div.sk-parallel-item::after {content: \"\";width: 100%;border-bottom: 1px solid gray;flex-grow: 1;}#sk-container-id-1 div.sk-label:hover label.sk-toggleable__label {background-color: #d4ebff;}#sk-container-id-1 div.sk-serial::before {content: \"\";position: absolute;border-left: 1px solid gray;box-sizing: border-box;top: 0;bottom: 0;left: 50%;z-index: 0;}#sk-container-id-1 div.sk-serial {display: flex;flex-direction: column;align-items: center;background-color: white;padding-right: 0.2em;padding-left: 0.2em;position: relative;}#sk-container-id-1 div.sk-item {position: relative;z-index: 1;}#sk-container-id-1 div.sk-parallel {display: flex;align-items: stretch;justify-content: center;background-color: white;position: relative;}#sk-container-id-1 div.sk-item::before, #sk-container-id-1 div.sk-parallel-item::before {content: \"\";position: absolute;border-left: 1px solid gray;box-sizing: border-box;top: 0;bottom: 0;left: 50%;z-index: -1;}#sk-container-id-1 div.sk-parallel-item {display: flex;flex-direction: column;z-index: 1;position: relative;background-color: white;}#sk-container-id-1 div.sk-parallel-item:first-child::after {align-self: flex-end;width: 50%;}#sk-container-id-1 div.sk-parallel-item:last-child::after {align-self: flex-start;width: 50%;}#sk-container-id-1 div.sk-parallel-item:only-child::after {width: 0;}#sk-container-id-1 div.sk-dashed-wrapped {border: 1px dashed gray;margin: 0 0.4em 0.5em 0.4em;box-sizing: border-box;padding-bottom: 0.4em;background-color: white;}#sk-container-id-1 div.sk-label label {font-family: monospace;font-weight: bold;display: inline-block;line-height: 1.2em;}#sk-container-id-1 div.sk-label-container {text-align: center;}#sk-container-id-1 div.sk-container {/* jupyter's `normalize.less` sets `[hidden] { display: none; }` but bootstrap.min.css set `[hidden] { display: none !important; }` so we also need the `!important` here to be able to override the default hidden behavior on the sphinx rendered scikit-learn.org. See: https://github.com/scikit-learn/scikit-learn/issues/21755 */display: inline-block !important;position: relative;}#sk-container-id-1 div.sk-text-repr-fallback {display: none;}</style><div id=\"sk-container-id-1\" class=\"sk-top-container\"><div class=\"sk-text-repr-fallback\"><pre>RandomForestRegressor(max_features=0.5, max_samples=19856, min_samples_leaf=5,\n",
       "                      n_estimators=40, n_jobs=-1, oob_score=True)</pre><b>In a Jupyter environment, please rerun this cell to show the HTML representation or trust the notebook. <br />On GitHub, the HTML representation is unable to render, please try loading this page with nbviewer.org.</b></div><div class=\"sk-container\" hidden><div class=\"sk-item\"><div class=\"sk-estimator sk-toggleable\"><input class=\"sk-toggleable__control sk-hidden--visually\" id=\"sk-estimator-id-1\" type=\"checkbox\" checked><label for=\"sk-estimator-id-1\" class=\"sk-toggleable__label sk-toggleable__label-arrow\">RandomForestRegressor</label><div class=\"sk-toggleable__content\"><pre>RandomForestRegressor(max_features=0.5, max_samples=19856, min_samples_leaf=5,\n",
       "                      n_estimators=40, n_jobs=-1, oob_score=True)</pre></div></div></div></div></div>"
      ],
      "text/plain": [
       "RandomForestRegressor(max_features=0.5, max_samples=19856, min_samples_leaf=5,\n",
       "                      n_estimators=40, n_jobs=-1, oob_score=True)"
      ]
     },
     "execution_count": 26,
     "metadata": {},
     "output_type": "execute_result"
    }
   ],
   "source": [
    "m"
   ]
  },
  {
   "cell_type": "code",
   "execution_count": null,
   "id": "86c53030-5501-4512-9929-f1f902ff4790",
   "metadata": {},
   "outputs": [],
   "source": []
  }
 ],
 "metadata": {
  "kernelspec": {
   "display_name": "Python 3 (ipykernel)",
   "language": "python",
   "name": "python3"
  },
  "language_info": {
   "codemirror_mode": {
    "name": "ipython",
    "version": 3
   },
   "file_extension": ".py",
   "mimetype": "text/x-python",
   "name": "python",
   "nbconvert_exporter": "python",
   "pygments_lexer": "ipython3",
   "version": "3.9.5"
  }
 },
 "nbformat": 4,
 "nbformat_minor": 5
}
