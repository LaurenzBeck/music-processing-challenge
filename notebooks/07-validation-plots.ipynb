{
 "cells": [
  {
   "cell_type": "code",
   "execution_count": 1,
   "id": "098587c1-d8f4-4416-9aba-ba018b0fc644",
   "metadata": {},
   "outputs": [],
   "source": [
    "import pandas as pd\n",
    "import altair as alt"
   ]
  },
  {
   "cell_type": "code",
   "execution_count": 4,
   "id": "ca1ef20c-c047-4624-8642-478cd74bebdf",
   "metadata": {},
   "outputs": [
    {
     "data": {
      "text/html": [
       "<div>\n",
       "<style scoped>\n",
       "    .dataframe tbody tr th:only-of-type {\n",
       "        vertical-align: middle;\n",
       "    }\n",
       "\n",
       "    .dataframe tbody tr th {\n",
       "        vertical-align: top;\n",
       "    }\n",
       "\n",
       "    .dataframe thead th {\n",
       "        text-align: right;\n",
       "    }\n",
       "</style>\n",
       "<table border=\"1\" class=\"dataframe\">\n",
       "  <thead>\n",
       "    <tr style=\"text-align: right;\">\n",
       "      <th></th>\n",
       "      <th>file</th>\n",
       "      <th>timestamps</th>\n",
       "      <th>onset</th>\n",
       "      <th>onset probabilty</th>\n",
       "      <th>onset prediction</th>\n",
       "      <th>superflux</th>\n",
       "    </tr>\n",
       "  </thead>\n",
       "  <tbody>\n",
       "    <tr>\n",
       "      <th>0</th>\n",
       "      <td>Media-103515(19.7-29.7)</td>\n",
       "      <td>0.05</td>\n",
       "      <td>True</td>\n",
       "      <td>0.529800</td>\n",
       "      <td>1</td>\n",
       "      <td>0.00000</td>\n",
       "    </tr>\n",
       "    <tr>\n",
       "      <th>1</th>\n",
       "      <td>Media-103515(19.7-29.7)</td>\n",
       "      <td>0.15</td>\n",
       "      <td>False</td>\n",
       "      <td>0.493901</td>\n",
       "      <td>0</td>\n",
       "      <td>0.67023</td>\n",
       "    </tr>\n",
       "    <tr>\n",
       "      <th>2</th>\n",
       "      <td>Media-103515(19.7-29.7)</td>\n",
       "      <td>0.25</td>\n",
       "      <td>True</td>\n",
       "      <td>0.502001</td>\n",
       "      <td>1</td>\n",
       "      <td>0.00030</td>\n",
       "    </tr>\n",
       "    <tr>\n",
       "      <th>3</th>\n",
       "      <td>Media-103515(19.7-29.7)</td>\n",
       "      <td>0.35</td>\n",
       "      <td>True</td>\n",
       "      <td>0.504033</td>\n",
       "      <td>1</td>\n",
       "      <td>0.00017</td>\n",
       "    </tr>\n",
       "    <tr>\n",
       "      <th>4</th>\n",
       "      <td>Media-103515(19.7-29.7)</td>\n",
       "      <td>0.45</td>\n",
       "      <td>False</td>\n",
       "      <td>0.549507</td>\n",
       "      <td>1</td>\n",
       "      <td>0.44279</td>\n",
       "    </tr>\n",
       "  </tbody>\n",
       "</table>\n",
       "</div>"
      ],
      "text/plain": [
       "                      file  timestamps  onset  onset probabilty  \\\n",
       "0  Media-103515(19.7-29.7)        0.05   True          0.529800   \n",
       "1  Media-103515(19.7-29.7)        0.15  False          0.493901   \n",
       "2  Media-103515(19.7-29.7)        0.25   True          0.502001   \n",
       "3  Media-103515(19.7-29.7)        0.35   True          0.504033   \n",
       "4  Media-103515(19.7-29.7)        0.45  False          0.549507   \n",
       "\n",
       "   onset prediction  superflux  \n",
       "0                 1    0.00000  \n",
       "1                 0    0.67023  \n",
       "2                 1    0.00030  \n",
       "3                 1    0.00017  \n",
       "4                 1    0.44279  "
      ]
     },
     "execution_count": 4,
     "metadata": {},
     "output_type": "execute_result"
    }
   ],
   "source": [
    "data = pd.read_csv(\"../reports/val-df.csv\")\n",
    "data.head()"
   ]
  },
  {
   "cell_type": "code",
   "execution_count": 14,
   "id": "27964bd7-401a-4e53-9a1e-b993d0ff6334",
   "metadata": {},
   "outputs": [
    {
     "name": "stderr",
     "output_type": "stream",
     "text": [
      "/tmp/ipykernel_6044/2497934334.py:7: UserWarning: Boolean Series key will be reindexed to match DataFrame index.\n",
      "  onsets = alt.Chart(data[data[\"file\"]==file][data[\"onset\"]]).mark_rule(color='red').encode(\n"
     ]
    },
    {
     "data": {
      "text/html": [
       "\n",
       "<div id=\"altair-viz-0f4c20ca90f94747a0888d6316645d11\"></div>\n",
       "<script type=\"text/javascript\">\n",
       "  var VEGA_DEBUG = (typeof VEGA_DEBUG == \"undefined\") ? {} : VEGA_DEBUG;\n",
       "  (function(spec, embedOpt){\n",
       "    let outputDiv = document.currentScript.previousElementSibling;\n",
       "    if (outputDiv.id !== \"altair-viz-0f4c20ca90f94747a0888d6316645d11\") {\n",
       "      outputDiv = document.getElementById(\"altair-viz-0f4c20ca90f94747a0888d6316645d11\");\n",
       "    }\n",
       "    const paths = {\n",
       "      \"vega\": \"https://cdn.jsdelivr.net/npm//vega@5?noext\",\n",
       "      \"vega-lib\": \"https://cdn.jsdelivr.net/npm//vega-lib?noext\",\n",
       "      \"vega-lite\": \"https://cdn.jsdelivr.net/npm//vega-lite@4.17.0?noext\",\n",
       "      \"vega-embed\": \"https://cdn.jsdelivr.net/npm//vega-embed@6?noext\",\n",
       "    };\n",
       "\n",
       "    function maybeLoadScript(lib, version) {\n",
       "      var key = `${lib.replace(\"-\", \"\")}_version`;\n",
       "      return (VEGA_DEBUG[key] == version) ?\n",
       "        Promise.resolve(paths[lib]) :\n",
       "        new Promise(function(resolve, reject) {\n",
       "          var s = document.createElement('script');\n",
       "          document.getElementsByTagName(\"head\")[0].appendChild(s);\n",
       "          s.async = true;\n",
       "          s.onload = () => {\n",
       "            VEGA_DEBUG[key] = version;\n",
       "            return resolve(paths[lib]);\n",
       "          };\n",
       "          s.onerror = () => reject(`Error loading script: ${paths[lib]}`);\n",
       "          s.src = paths[lib];\n",
       "        });\n",
       "    }\n",
       "\n",
       "    function showError(err) {\n",
       "      outputDiv.innerHTML = `<div class=\"error\" style=\"color:red;\">${err}</div>`;\n",
       "      throw err;\n",
       "    }\n",
       "\n",
       "    function displayChart(vegaEmbed) {\n",
       "      vegaEmbed(outputDiv, spec, embedOpt)\n",
       "        .catch(err => showError(`Javascript Error: ${err.message}<br>This usually means there's a typo in your chart specification. See the javascript console for the full traceback.`));\n",
       "    }\n",
       "\n",
       "    if(typeof define === \"function\" && define.amd) {\n",
       "      requirejs.config({paths});\n",
       "      require([\"vega-embed\"], displayChart, err => showError(`Error loading script: ${err.message}`));\n",
       "    } else {\n",
       "      maybeLoadScript(\"vega\", \"5\")\n",
       "        .then(() => maybeLoadScript(\"vega-lite\", \"4.17.0\"))\n",
       "        .then(() => maybeLoadScript(\"vega-embed\", \"6\"))\n",
       "        .catch(showError)\n",
       "        .then(() => displayChart(vegaEmbed));\n",
       "    }\n",
       "  })({\"config\": {\"view\": {\"continuousWidth\": 400, \"continuousHeight\": 300}}, \"layer\": [{\"data\": {\"name\": \"data-675f0f2a10c6a204fbdafa4b8a3c893e\"}, \"mark\": \"line\", \"encoding\": {\"x\": {\"field\": \"timestamps\", \"type\": \"quantitative\"}, \"y\": {\"field\": \"superflux\", \"type\": \"quantitative\"}}, \"selection\": {\"selector010\": {\"type\": \"interval\", \"bind\": \"scales\", \"encodings\": [\"x\", \"y\"]}}}, {\"data\": {\"name\": \"data-4907a46dd60d0d10e873a56fe8fe1dec\"}, \"mark\": {\"type\": \"rule\", \"color\": \"red\"}, \"encoding\": {\"x\": {\"field\": \"timestamps\", \"type\": \"quantitative\"}}}, {\"data\": {\"name\": \"data-675f0f2a10c6a204fbdafa4b8a3c893e\"}, \"mark\": \"point\", \"encoding\": {\"color\": {\"field\": \"onset prediction\", \"type\": \"nominal\"}, \"x\": {\"field\": \"timestamps\", \"type\": \"quantitative\"}, \"y\": {\"field\": \"superflux\", \"type\": \"quantitative\"}}}], \"width\": 1200, \"$schema\": \"https://vega.github.io/schema/vega-lite/v4.17.0.json\", \"datasets\": {\"data-675f0f2a10c6a204fbdafa4b8a3c893e\": [{\"file\": \"Media-103515(19.7-29.7)\", \"timestamps\": 0.05, \"onset\": true, \"onset probabilty\": 0.52980006, \"onset prediction\": 1, \"superflux\": 0.0}, {\"file\": \"Media-103515(19.7-29.7)\", \"timestamps\": 0.15, \"onset\": false, \"onset probabilty\": 0.4939013, \"onset prediction\": 0, \"superflux\": 0.67023}, {\"file\": \"Media-103515(19.7-29.7)\", \"timestamps\": 0.25, \"onset\": true, \"onset probabilty\": 0.5020006, \"onset prediction\": 1, \"superflux\": 0.0003}, {\"file\": \"Media-103515(19.7-29.7)\", \"timestamps\": 0.35, \"onset\": true, \"onset probabilty\": 0.50403285, \"onset prediction\": 1, \"superflux\": 0.00017}, {\"file\": \"Media-103515(19.7-29.7)\", \"timestamps\": 0.45, \"onset\": false, \"onset probabilty\": 0.54950666, \"onset prediction\": 1, \"superflux\": 0.44279}, {\"file\": \"Media-103515(19.7-29.7)\", \"timestamps\": 0.55, \"onset\": true, \"onset probabilty\": 0.5432333, \"onset prediction\": 1, \"superflux\": 0.04176}, {\"file\": \"Media-103515(19.7-29.7)\", \"timestamps\": 0.65, \"onset\": false, \"onset probabilty\": 0.57890147, \"onset prediction\": 1, \"superflux\": 0.0581}, {\"file\": \"Media-103515(19.7-29.7)\", \"timestamps\": 0.75, \"onset\": true, \"onset probabilty\": 0.58696127, \"onset prediction\": 1, \"superflux\": 0.04716}, {\"file\": \"Media-103515(19.7-29.7)\", \"timestamps\": 0.8500000000000001, \"onset\": true, \"onset probabilty\": 0.45635742, \"onset prediction\": 0, \"superflux\": 0.05144}, {\"file\": \"Media-103515(19.7-29.7)\", \"timestamps\": 0.95, \"onset\": true, \"onset probabilty\": 0.52672803, \"onset prediction\": 1, \"superflux\": 0.02053}, {\"file\": \"Media-103515(19.7-29.7)\", \"timestamps\": 1.05, \"onset\": false, \"onset probabilty\": 0.4559011, \"onset prediction\": 0, \"superflux\": 0.14426}, {\"file\": \"Media-103515(19.7-29.7)\", \"timestamps\": 1.15, \"onset\": true, \"onset probabilty\": 0.54399824, \"onset prediction\": 1, \"superflux\": 0.05998}, {\"file\": \"Media-103515(19.7-29.7)\", \"timestamps\": 1.25, \"onset\": true, \"onset probabilty\": 0.52701336, \"onset prediction\": 1, \"superflux\": 0.18643}, {\"file\": \"Media-103515(19.7-29.7)\", \"timestamps\": 1.35, \"onset\": true, \"onset probabilty\": 0.3777178, \"onset prediction\": 0, \"superflux\": 0.00959}, {\"file\": \"Media-103515(19.7-29.7)\", \"timestamps\": 1.45, \"onset\": false, \"onset probabilty\": 0.5130289, \"onset prediction\": 1, \"superflux\": 0.115}, {\"file\": \"Media-103515(19.7-29.7)\", \"timestamps\": 1.55, \"onset\": true, \"onset probabilty\": 0.4848949, \"onset prediction\": 0, \"superflux\": 0.0793}, {\"file\": \"Media-103515(19.7-29.7)\", \"timestamps\": 1.65, \"onset\": true, \"onset probabilty\": 0.47449744, \"onset prediction\": 0, \"superflux\": 0.027}, {\"file\": \"Media-103515(19.7-29.7)\", \"timestamps\": 1.75, \"onset\": true, \"onset probabilty\": 0.5490519, \"onset prediction\": 1, \"superflux\": 0.05846}, {\"file\": \"Media-103515(19.7-29.7)\", \"timestamps\": 1.85, \"onset\": false, \"onset probabilty\": 0.4936657, \"onset prediction\": 0, \"superflux\": 0.1183}, {\"file\": \"Media-103515(19.7-29.7)\", \"timestamps\": 1.95, \"onset\": false, \"onset probabilty\": 0.5350481, \"onset prediction\": 1, \"superflux\": 0.0463}, {\"file\": \"Media-103515(19.7-29.7)\", \"timestamps\": 2.05, \"onset\": true, \"onset probabilty\": 0.49219677, \"onset prediction\": 0, \"superflux\": 0.0186}, {\"file\": \"Media-103515(19.7-29.7)\", \"timestamps\": 2.15, \"onset\": false, \"onset probabilty\": 0.5072145, \"onset prediction\": 1, \"superflux\": 0.06137}, {\"file\": \"Media-103515(19.7-29.7)\", \"timestamps\": 2.25, \"onset\": true, \"onset probabilty\": 0.53984594, \"onset prediction\": 1, \"superflux\": 0.11229}, {\"file\": \"Media-103515(19.7-29.7)\", \"timestamps\": 2.35, \"onset\": false, \"onset probabilty\": 0.36005688, \"onset prediction\": 0, \"superflux\": 0.26997}, {\"file\": \"Media-103515(19.7-29.7)\", \"timestamps\": 2.45, \"onset\": false, \"onset probabilty\": 0.38843775, \"onset prediction\": 0, \"superflux\": 0.0}, {\"file\": \"Media-103515(19.7-29.7)\", \"timestamps\": 2.55, \"onset\": true, \"onset probabilty\": 0.53146654, \"onset prediction\": 1, \"superflux\": 0.16912}, {\"file\": \"Media-103515(19.7-29.7)\", \"timestamps\": 2.65, \"onset\": true, \"onset probabilty\": 0.5382623, \"onset prediction\": 1, \"superflux\": 0.10022}, {\"file\": \"Media-103515(19.7-29.7)\", \"timestamps\": 2.75, \"onset\": false, \"onset probabilty\": 0.49502122, \"onset prediction\": 0, \"superflux\": 0.06151}, {\"file\": \"Media-103515(19.7-29.7)\", \"timestamps\": 2.85, \"onset\": true, \"onset probabilty\": 0.5442429, \"onset prediction\": 1, \"superflux\": 0.08081}, {\"file\": \"Media-103515(19.7-29.7)\", \"timestamps\": 2.95, \"onset\": false, \"onset probabilty\": 0.543393, \"onset prediction\": 1, \"superflux\": 0.05002}, {\"file\": \"Media-103515(19.7-29.7)\", \"timestamps\": 3.05, \"onset\": true, \"onset probabilty\": 0.61891955, \"onset prediction\": 1, \"superflux\": 0.12297}, {\"file\": \"Media-103515(19.7-29.7)\", \"timestamps\": 3.15, \"onset\": true, \"onset probabilty\": 0.49674457, \"onset prediction\": 0, \"superflux\": 0.05651}, {\"file\": \"Media-103515(19.7-29.7)\", \"timestamps\": 3.25, \"onset\": true, \"onset probabilty\": 0.504304, \"onset prediction\": 1, \"superflux\": 0.00324}, {\"file\": \"Media-103515(19.7-29.7)\", \"timestamps\": 3.35, \"onset\": false, \"onset probabilty\": 0.4964304, \"onset prediction\": 0, \"superflux\": 0.31435}, {\"file\": \"Media-103515(19.7-29.7)\", \"timestamps\": 3.45, \"onset\": true, \"onset probabilty\": 0.7125343, \"onset prediction\": 1, \"superflux\": 0.09424}, {\"file\": \"Media-103515(19.7-29.7)\", \"timestamps\": 3.55, \"onset\": false, \"onset probabilty\": 0.47589612, \"onset prediction\": 0, \"superflux\": 0.04474}, {\"file\": \"Media-103515(19.7-29.7)\", \"timestamps\": 3.65, \"onset\": true, \"onset probabilty\": 0.49750957, \"onset prediction\": 0, \"superflux\": 0.02784}, {\"file\": \"Media-103515(19.7-29.7)\", \"timestamps\": 3.75, \"onset\": true, \"onset probabilty\": 0.5605833, \"onset prediction\": 1, \"superflux\": 0.18298}, {\"file\": \"Media-103515(19.7-29.7)\", \"timestamps\": 3.85, \"onset\": false, \"onset probabilty\": 0.5454895, \"onset prediction\": 1, \"superflux\": 0.12125}, {\"file\": \"Media-103515(19.7-29.7)\", \"timestamps\": 3.95, \"onset\": true, \"onset probabilty\": 0.4021783, \"onset prediction\": 0, \"superflux\": 0.0913}, {\"file\": \"Media-103515(19.7-29.7)\", \"timestamps\": 4.05, \"onset\": false, \"onset probabilty\": 0.4458143, \"onset prediction\": 0, \"superflux\": 0.01514}, {\"file\": \"Media-103515(19.7-29.7)\", \"timestamps\": 4.15, \"onset\": true, \"onset probabilty\": 0.555444, \"onset prediction\": 1, \"superflux\": 0.05356}, {\"file\": \"Media-103515(19.7-29.7)\", \"timestamps\": 4.25, \"onset\": true, \"onset probabilty\": 0.5081378, \"onset prediction\": 1, \"superflux\": 0.03736}, {\"file\": \"Media-103515(19.7-29.7)\", \"timestamps\": 4.35, \"onset\": true, \"onset probabilty\": 0.56647325, \"onset prediction\": 1, \"superflux\": 0.00633}, {\"file\": \"Media-103515(19.7-29.7)\", \"timestamps\": 4.45, \"onset\": false, \"onset probabilty\": 0.54855263, \"onset prediction\": 1, \"superflux\": 0.15052}, {\"file\": \"Media-103515(19.7-29.7)\", \"timestamps\": 4.55, \"onset\": true, \"onset probabilty\": 0.55684596, \"onset prediction\": 1, \"superflux\": 0.10992}, {\"file\": \"Media-103515(19.7-29.7)\", \"timestamps\": 4.65, \"onset\": true, \"onset probabilty\": 0.49843928, \"onset prediction\": 0, \"superflux\": 0.02213}, {\"file\": \"Media-103515(19.7-29.7)\", \"timestamps\": 4.75, \"onset\": true, \"onset probabilty\": 0.5220961, \"onset prediction\": 1, \"superflux\": 0.01824}, {\"file\": \"Media-103515(19.7-29.7)\", \"timestamps\": 4.85, \"onset\": true, \"onset probabilty\": 0.6390944, \"onset prediction\": 1, \"superflux\": 0.15408}, {\"file\": \"Media-103515(19.7-29.7)\", \"timestamps\": 4.95, \"onset\": false, \"onset probabilty\": 0.40245578, \"onset prediction\": 0, \"superflux\": 0.10539}, {\"file\": \"Media-103515(19.7-29.7)\", \"timestamps\": 5.05, \"onset\": true, \"onset probabilty\": 0.64318943, \"onset prediction\": 1, \"superflux\": 0.174}, {\"file\": \"Media-103515(19.7-29.7)\", \"timestamps\": 5.15, \"onset\": false, \"onset probabilty\": 0.4649432, \"onset prediction\": 0, \"superflux\": 0.00353}, {\"file\": \"Media-103515(19.7-29.7)\", \"timestamps\": 5.25, \"onset\": true, \"onset probabilty\": 0.5788381, \"onset prediction\": 1, \"superflux\": 0.09085}, {\"file\": \"Media-103515(19.7-29.7)\", \"timestamps\": 5.35, \"onset\": false, \"onset probabilty\": 0.70207536, \"onset prediction\": 1, \"superflux\": 0.08093}, {\"file\": \"Media-103515(19.7-29.7)\", \"timestamps\": 5.45, \"onset\": true, \"onset probabilty\": 0.5468753, \"onset prediction\": 1, \"superflux\": 0.07836}, {\"file\": \"Media-103515(19.7-29.7)\", \"timestamps\": 5.55, \"onset\": true, \"onset probabilty\": 0.5912726, \"onset prediction\": 1, \"superflux\": 0.06303}, {\"file\": \"Media-103515(19.7-29.7)\", \"timestamps\": 5.65, \"onset\": true, \"onset probabilty\": 0.62804437, \"onset prediction\": 1, \"superflux\": 0.17071}, {\"file\": \"Media-103515(19.7-29.7)\", \"timestamps\": 5.75, \"onset\": false, \"onset probabilty\": 0.5541394, \"onset prediction\": 1, \"superflux\": 0.13238}, {\"file\": \"Media-103515(19.7-29.7)\", \"timestamps\": 5.85, \"onset\": false, \"onset probabilty\": 0.4309095, \"onset prediction\": 0, \"superflux\": 0.00257}, {\"file\": \"Media-103515(19.7-29.7)\", \"timestamps\": 5.95, \"onset\": true, \"onset probabilty\": 0.56491, \"onset prediction\": 1, \"superflux\": 0.20951}, {\"file\": \"Media-103515(19.7-29.7)\", \"timestamps\": 6.05, \"onset\": true, \"onset probabilty\": 0.519447, \"onset prediction\": 1, \"superflux\": 0.03156}, {\"file\": \"Media-103515(19.7-29.7)\", \"timestamps\": 6.15, \"onset\": false, \"onset probabilty\": 0.49372885, \"onset prediction\": 0, \"superflux\": 0.29953}, {\"file\": \"Media-103515(19.7-29.7)\", \"timestamps\": 6.25, \"onset\": true, \"onset probabilty\": 0.43556693, \"onset prediction\": 0, \"superflux\": 0.01423}, {\"file\": \"Media-103515(19.7-29.7)\", \"timestamps\": 6.35, \"onset\": false, \"onset probabilty\": 0.46956325, \"onset prediction\": 0, \"superflux\": 0.04091}, {\"file\": \"Media-103515(19.7-29.7)\", \"timestamps\": 6.45, \"onset\": false, \"onset probabilty\": 0.49382958, \"onset prediction\": 0, \"superflux\": 0.08959}, {\"file\": \"Media-103515(19.7-29.7)\", \"timestamps\": 6.55, \"onset\": true, \"onset probabilty\": 0.5430916, \"onset prediction\": 1, \"superflux\": 0.06978}, {\"file\": \"Media-103515(19.7-29.7)\", \"timestamps\": 6.65, \"onset\": false, \"onset probabilty\": 0.5096863, \"onset prediction\": 1, \"superflux\": 0.06206}, {\"file\": \"Media-103515(19.7-29.7)\", \"timestamps\": 6.75, \"onset\": true, \"onset probabilty\": 0.5336689, \"onset prediction\": 1, \"superflux\": 0.06478}, {\"file\": \"Media-103515(19.7-29.7)\", \"timestamps\": 6.85, \"onset\": true, \"onset probabilty\": 0.5182306, \"onset prediction\": 1, \"superflux\": 0.0736}, {\"file\": \"Media-103515(19.7-29.7)\", \"timestamps\": 6.95, \"onset\": true, \"onset probabilty\": 0.52073854, \"onset prediction\": 1, \"superflux\": 0.01169}, {\"file\": \"Media-103515(19.7-29.7)\", \"timestamps\": 7.05, \"onset\": false, \"onset probabilty\": 0.48341936, \"onset prediction\": 0, \"superflux\": 0.0513}, {\"file\": \"Media-103515(19.7-29.7)\", \"timestamps\": 7.15, \"onset\": true, \"onset probabilty\": 0.5878695, \"onset prediction\": 1, \"superflux\": 0.24326}, {\"file\": \"Media-103515(19.7-29.7)\", \"timestamps\": 7.25, \"onset\": true, \"onset probabilty\": 0.5300306, \"onset prediction\": 1, \"superflux\": 0.1066}, {\"file\": \"Media-103515(19.7-29.7)\", \"timestamps\": 7.35, \"onset\": true, \"onset probabilty\": 0.5039282, \"onset prediction\": 1, \"superflux\": 0.02239}, {\"file\": \"Media-103515(19.7-29.7)\", \"timestamps\": 7.45, \"onset\": false, \"onset probabilty\": 0.5214997, \"onset prediction\": 1, \"superflux\": 0.12112}, {\"file\": \"Media-103515(19.7-29.7)\", \"timestamps\": 7.55, \"onset\": true, \"onset probabilty\": 0.3412876, \"onset prediction\": 0, \"superflux\": 0.06217}, {\"file\": \"Media-103515(19.7-29.7)\", \"timestamps\": 7.649999999999999, \"onset\": true, \"onset probabilty\": 0.49395227, \"onset prediction\": 0, \"superflux\": 0.17703}, {\"file\": \"Media-103515(19.7-29.7)\", \"timestamps\": 7.75, \"onset\": true, \"onset probabilty\": 0.5437973, \"onset prediction\": 1, \"superflux\": 0.00982}, {\"file\": \"Media-103515(19.7-29.7)\", \"timestamps\": 7.85, \"onset\": false, \"onset probabilty\": 0.52121246, \"onset prediction\": 1, \"superflux\": 0.15182}, {\"file\": \"Media-103515(19.7-29.7)\", \"timestamps\": 7.95, \"onset\": true, \"onset probabilty\": 0.45387352, \"onset prediction\": 0, \"superflux\": 0.07006}, {\"file\": \"Media-103515(19.7-29.7)\", \"timestamps\": 8.05, \"onset\": false, \"onset probabilty\": 0.54610914, \"onset prediction\": 1, \"superflux\": 0.19169}, {\"file\": \"Media-103515(19.7-29.7)\", \"timestamps\": 8.15, \"onset\": false, \"onset probabilty\": 0.4113308, \"onset prediction\": 0, \"superflux\": 0.01545}, {\"file\": \"Media-103515(19.7-29.7)\", \"timestamps\": 8.25, \"onset\": true, \"onset probabilty\": 0.59228045, \"onset prediction\": 1, \"superflux\": 0.07194}, {\"file\": \"Media-103515(19.7-29.7)\", \"timestamps\": 8.350000000000001, \"onset\": false, \"onset probabilty\": 0.4783074, \"onset prediction\": 0, \"superflux\": 0.01683}, {\"file\": \"Media-103515(19.7-29.7)\", \"timestamps\": 8.450000000000001, \"onset\": false, \"onset probabilty\": 0.4390879, \"onset prediction\": 0, \"superflux\": 0.11183}, {\"file\": \"Media-103515(19.7-29.7)\", \"timestamps\": 8.55, \"onset\": false, \"onset probabilty\": 0.3773938, \"onset prediction\": 0, \"superflux\": 0.02164}, {\"file\": \"Media-103515(19.7-29.7)\", \"timestamps\": 8.65, \"onset\": true, \"onset probabilty\": 0.54618645, \"onset prediction\": 1, \"superflux\": 0.21258}, {\"file\": \"Media-103515(19.7-29.7)\", \"timestamps\": 8.75, \"onset\": false, \"onset probabilty\": 0.4551609, \"onset prediction\": 0, \"superflux\": 0.01025}, {\"file\": \"Media-103515(19.7-29.7)\", \"timestamps\": 8.850000000000001, \"onset\": true, \"onset probabilty\": 0.42962638, \"onset prediction\": 0, \"superflux\": 0.12556}, {\"file\": \"Media-103515(19.7-29.7)\", \"timestamps\": 8.950000000000001, \"onset\": false, \"onset probabilty\": 0.5190462, \"onset prediction\": 1, \"superflux\": 0.13931}, {\"file\": \"Media-103515(19.7-29.7)\", \"timestamps\": 9.05, \"onset\": true, \"onset probabilty\": 0.5287213, \"onset prediction\": 1, \"superflux\": 0.05742}, {\"file\": \"Media-103515(19.7-29.7)\", \"timestamps\": 9.15, \"onset\": false, \"onset probabilty\": 0.47233424, \"onset prediction\": 0, \"superflux\": 0.16474}, {\"file\": \"Media-103515(19.7-29.7)\", \"timestamps\": 9.25, \"onset\": false, \"onset probabilty\": 0.54736674, \"onset prediction\": 1, \"superflux\": 0.09362}, {\"file\": \"Media-103515(19.7-29.7)\", \"timestamps\": 9.35, \"onset\": false, \"onset probabilty\": 0.49408814, \"onset prediction\": 0, \"superflux\": 0.05096}, {\"file\": \"Media-103515(19.7-29.7)\", \"timestamps\": 9.45, \"onset\": true, \"onset probabilty\": 0.6116119, \"onset prediction\": 1, \"superflux\": 0.09616}, {\"file\": \"Media-103515(19.7-29.7)\", \"timestamps\": 9.55, \"onset\": false, \"onset probabilty\": 0.51436514, \"onset prediction\": 1, \"superflux\": 0.01615}, {\"file\": \"Media-103515(19.7-29.7)\", \"timestamps\": 9.65, \"onset\": true, \"onset probabilty\": 0.5692618, \"onset prediction\": 1, \"superflux\": 0.11933}, {\"file\": \"Media-103515(19.7-29.7)\", \"timestamps\": 9.75, \"onset\": false, \"onset probabilty\": 0.42500478, \"onset prediction\": 0, \"superflux\": 0.04936}, {\"file\": \"Media-103515(19.7-29.7)\", \"timestamps\": 9.85, \"onset\": false, \"onset probabilty\": 0.52974063, \"onset prediction\": 1, \"superflux\": 0.08016}, {\"file\": \"Media-103515(19.7-29.7)\", \"timestamps\": 9.95, \"onset\": true, \"onset probabilty\": 0.6065444, \"onset prediction\": 1, \"superflux\": 0.19209}, {\"file\": \"Media-103515(19.7-29.7)\", \"timestamps\": 10.05, \"onset\": false, \"onset probabilty\": 0.52963954, \"onset prediction\": 1, \"superflux\": 0.00041}], \"data-4907a46dd60d0d10e873a56fe8fe1dec\": [{\"file\": \"Media-103515(19.7-29.7)\", \"timestamps\": 0.05, \"onset\": true, \"onset probabilty\": 0.52980006, \"onset prediction\": 1, \"superflux\": 0.0}, {\"file\": \"Media-103515(19.7-29.7)\", \"timestamps\": 0.25, \"onset\": true, \"onset probabilty\": 0.5020006, \"onset prediction\": 1, \"superflux\": 0.0003}, {\"file\": \"Media-103515(19.7-29.7)\", \"timestamps\": 0.35, \"onset\": true, \"onset probabilty\": 0.50403285, \"onset prediction\": 1, \"superflux\": 0.00017}, {\"file\": \"Media-103515(19.7-29.7)\", \"timestamps\": 0.55, \"onset\": true, \"onset probabilty\": 0.5432333, \"onset prediction\": 1, \"superflux\": 0.04176}, {\"file\": \"Media-103515(19.7-29.7)\", \"timestamps\": 0.75, \"onset\": true, \"onset probabilty\": 0.58696127, \"onset prediction\": 1, \"superflux\": 0.04716}, {\"file\": \"Media-103515(19.7-29.7)\", \"timestamps\": 0.8500000000000001, \"onset\": true, \"onset probabilty\": 0.45635742, \"onset prediction\": 0, \"superflux\": 0.05144}, {\"file\": \"Media-103515(19.7-29.7)\", \"timestamps\": 0.95, \"onset\": true, \"onset probabilty\": 0.52672803, \"onset prediction\": 1, \"superflux\": 0.02053}, {\"file\": \"Media-103515(19.7-29.7)\", \"timestamps\": 1.15, \"onset\": true, \"onset probabilty\": 0.54399824, \"onset prediction\": 1, \"superflux\": 0.05998}, {\"file\": \"Media-103515(19.7-29.7)\", \"timestamps\": 1.25, \"onset\": true, \"onset probabilty\": 0.52701336, \"onset prediction\": 1, \"superflux\": 0.18643}, {\"file\": \"Media-103515(19.7-29.7)\", \"timestamps\": 1.35, \"onset\": true, \"onset probabilty\": 0.3777178, \"onset prediction\": 0, \"superflux\": 0.00959}, {\"file\": \"Media-103515(19.7-29.7)\", \"timestamps\": 1.55, \"onset\": true, \"onset probabilty\": 0.4848949, \"onset prediction\": 0, \"superflux\": 0.0793}, {\"file\": \"Media-103515(19.7-29.7)\", \"timestamps\": 1.65, \"onset\": true, \"onset probabilty\": 0.47449744, \"onset prediction\": 0, \"superflux\": 0.027}, {\"file\": \"Media-103515(19.7-29.7)\", \"timestamps\": 1.75, \"onset\": true, \"onset probabilty\": 0.5490519, \"onset prediction\": 1, \"superflux\": 0.05846}, {\"file\": \"Media-103515(19.7-29.7)\", \"timestamps\": 2.05, \"onset\": true, \"onset probabilty\": 0.49219677, \"onset prediction\": 0, \"superflux\": 0.0186}, {\"file\": \"Media-103515(19.7-29.7)\", \"timestamps\": 2.25, \"onset\": true, \"onset probabilty\": 0.53984594, \"onset prediction\": 1, \"superflux\": 0.11229}, {\"file\": \"Media-103515(19.7-29.7)\", \"timestamps\": 2.55, \"onset\": true, \"onset probabilty\": 0.53146654, \"onset prediction\": 1, \"superflux\": 0.16912}, {\"file\": \"Media-103515(19.7-29.7)\", \"timestamps\": 2.65, \"onset\": true, \"onset probabilty\": 0.5382623, \"onset prediction\": 1, \"superflux\": 0.10022}, {\"file\": \"Media-103515(19.7-29.7)\", \"timestamps\": 2.85, \"onset\": true, \"onset probabilty\": 0.5442429, \"onset prediction\": 1, \"superflux\": 0.08081}, {\"file\": \"Media-103515(19.7-29.7)\", \"timestamps\": 3.05, \"onset\": true, \"onset probabilty\": 0.61891955, \"onset prediction\": 1, \"superflux\": 0.12297}, {\"file\": \"Media-103515(19.7-29.7)\", \"timestamps\": 3.15, \"onset\": true, \"onset probabilty\": 0.49674457, \"onset prediction\": 0, \"superflux\": 0.05651}, {\"file\": \"Media-103515(19.7-29.7)\", \"timestamps\": 3.25, \"onset\": true, \"onset probabilty\": 0.504304, \"onset prediction\": 1, \"superflux\": 0.00324}, {\"file\": \"Media-103515(19.7-29.7)\", \"timestamps\": 3.45, \"onset\": true, \"onset probabilty\": 0.7125343, \"onset prediction\": 1, \"superflux\": 0.09424}, {\"file\": \"Media-103515(19.7-29.7)\", \"timestamps\": 3.65, \"onset\": true, \"onset probabilty\": 0.49750957, \"onset prediction\": 0, \"superflux\": 0.02784}, {\"file\": \"Media-103515(19.7-29.7)\", \"timestamps\": 3.75, \"onset\": true, \"onset probabilty\": 0.5605833, \"onset prediction\": 1, \"superflux\": 0.18298}, {\"file\": \"Media-103515(19.7-29.7)\", \"timestamps\": 3.95, \"onset\": true, \"onset probabilty\": 0.4021783, \"onset prediction\": 0, \"superflux\": 0.0913}, {\"file\": \"Media-103515(19.7-29.7)\", \"timestamps\": 4.15, \"onset\": true, \"onset probabilty\": 0.555444, \"onset prediction\": 1, \"superflux\": 0.05356}, {\"file\": \"Media-103515(19.7-29.7)\", \"timestamps\": 4.25, \"onset\": true, \"onset probabilty\": 0.5081378, \"onset prediction\": 1, \"superflux\": 0.03736}, {\"file\": \"Media-103515(19.7-29.7)\", \"timestamps\": 4.35, \"onset\": true, \"onset probabilty\": 0.56647325, \"onset prediction\": 1, \"superflux\": 0.00633}, {\"file\": \"Media-103515(19.7-29.7)\", \"timestamps\": 4.55, \"onset\": true, \"onset probabilty\": 0.55684596, \"onset prediction\": 1, \"superflux\": 0.10992}, {\"file\": \"Media-103515(19.7-29.7)\", \"timestamps\": 4.65, \"onset\": true, \"onset probabilty\": 0.49843928, \"onset prediction\": 0, \"superflux\": 0.02213}, {\"file\": \"Media-103515(19.7-29.7)\", \"timestamps\": 4.75, \"onset\": true, \"onset probabilty\": 0.5220961, \"onset prediction\": 1, \"superflux\": 0.01824}, {\"file\": \"Media-103515(19.7-29.7)\", \"timestamps\": 4.85, \"onset\": true, \"onset probabilty\": 0.6390944, \"onset prediction\": 1, \"superflux\": 0.15408}, {\"file\": \"Media-103515(19.7-29.7)\", \"timestamps\": 5.05, \"onset\": true, \"onset probabilty\": 0.64318943, \"onset prediction\": 1, \"superflux\": 0.174}, {\"file\": \"Media-103515(19.7-29.7)\", \"timestamps\": 5.25, \"onset\": true, \"onset probabilty\": 0.5788381, \"onset prediction\": 1, \"superflux\": 0.09085}, {\"file\": \"Media-103515(19.7-29.7)\", \"timestamps\": 5.45, \"onset\": true, \"onset probabilty\": 0.5468753, \"onset prediction\": 1, \"superflux\": 0.07836}, {\"file\": \"Media-103515(19.7-29.7)\", \"timestamps\": 5.55, \"onset\": true, \"onset probabilty\": 0.5912726, \"onset prediction\": 1, \"superflux\": 0.06303}, {\"file\": \"Media-103515(19.7-29.7)\", \"timestamps\": 5.65, \"onset\": true, \"onset probabilty\": 0.62804437, \"onset prediction\": 1, \"superflux\": 0.17071}, {\"file\": \"Media-103515(19.7-29.7)\", \"timestamps\": 5.95, \"onset\": true, \"onset probabilty\": 0.56491, \"onset prediction\": 1, \"superflux\": 0.20951}, {\"file\": \"Media-103515(19.7-29.7)\", \"timestamps\": 6.05, \"onset\": true, \"onset probabilty\": 0.519447, \"onset prediction\": 1, \"superflux\": 0.03156}, {\"file\": \"Media-103515(19.7-29.7)\", \"timestamps\": 6.25, \"onset\": true, \"onset probabilty\": 0.43556693, \"onset prediction\": 0, \"superflux\": 0.01423}, {\"file\": \"Media-103515(19.7-29.7)\", \"timestamps\": 6.55, \"onset\": true, \"onset probabilty\": 0.5430916, \"onset prediction\": 1, \"superflux\": 0.06978}, {\"file\": \"Media-103515(19.7-29.7)\", \"timestamps\": 6.75, \"onset\": true, \"onset probabilty\": 0.5336689, \"onset prediction\": 1, \"superflux\": 0.06478}, {\"file\": \"Media-103515(19.7-29.7)\", \"timestamps\": 6.85, \"onset\": true, \"onset probabilty\": 0.5182306, \"onset prediction\": 1, \"superflux\": 0.0736}, {\"file\": \"Media-103515(19.7-29.7)\", \"timestamps\": 6.95, \"onset\": true, \"onset probabilty\": 0.52073854, \"onset prediction\": 1, \"superflux\": 0.01169}, {\"file\": \"Media-103515(19.7-29.7)\", \"timestamps\": 7.15, \"onset\": true, \"onset probabilty\": 0.5878695, \"onset prediction\": 1, \"superflux\": 0.24326}, {\"file\": \"Media-103515(19.7-29.7)\", \"timestamps\": 7.25, \"onset\": true, \"onset probabilty\": 0.5300306, \"onset prediction\": 1, \"superflux\": 0.1066}, {\"file\": \"Media-103515(19.7-29.7)\", \"timestamps\": 7.35, \"onset\": true, \"onset probabilty\": 0.5039282, \"onset prediction\": 1, \"superflux\": 0.02239}, {\"file\": \"Media-103515(19.7-29.7)\", \"timestamps\": 7.55, \"onset\": true, \"onset probabilty\": 0.3412876, \"onset prediction\": 0, \"superflux\": 0.06217}, {\"file\": \"Media-103515(19.7-29.7)\", \"timestamps\": 7.649999999999999, \"onset\": true, \"onset probabilty\": 0.49395227, \"onset prediction\": 0, \"superflux\": 0.17703}, {\"file\": \"Media-103515(19.7-29.7)\", \"timestamps\": 7.75, \"onset\": true, \"onset probabilty\": 0.5437973, \"onset prediction\": 1, \"superflux\": 0.00982}, {\"file\": \"Media-103515(19.7-29.7)\", \"timestamps\": 7.95, \"onset\": true, \"onset probabilty\": 0.45387352, \"onset prediction\": 0, \"superflux\": 0.07006}, {\"file\": \"Media-103515(19.7-29.7)\", \"timestamps\": 8.25, \"onset\": true, \"onset probabilty\": 0.59228045, \"onset prediction\": 1, \"superflux\": 0.07194}, {\"file\": \"Media-103515(19.7-29.7)\", \"timestamps\": 8.65, \"onset\": true, \"onset probabilty\": 0.54618645, \"onset prediction\": 1, \"superflux\": 0.21258}, {\"file\": \"Media-103515(19.7-29.7)\", \"timestamps\": 8.850000000000001, \"onset\": true, \"onset probabilty\": 0.42962638, \"onset prediction\": 0, \"superflux\": 0.12556}, {\"file\": \"Media-103515(19.7-29.7)\", \"timestamps\": 9.05, \"onset\": true, \"onset probabilty\": 0.5287213, \"onset prediction\": 1, \"superflux\": 0.05742}, {\"file\": \"Media-103515(19.7-29.7)\", \"timestamps\": 9.45, \"onset\": true, \"onset probabilty\": 0.6116119, \"onset prediction\": 1, \"superflux\": 0.09616}, {\"file\": \"Media-103515(19.7-29.7)\", \"timestamps\": 9.65, \"onset\": true, \"onset probabilty\": 0.5692618, \"onset prediction\": 1, \"superflux\": 0.11933}, {\"file\": \"Media-103515(19.7-29.7)\", \"timestamps\": 9.95, \"onset\": true, \"onset probabilty\": 0.6065444, \"onset prediction\": 1, \"superflux\": 0.19209}]}}, {\"mode\": \"vega-lite\"});\n",
       "</script>"
      ],
      "text/plain": [
       "alt.LayerChart(...)"
      ]
     },
     "execution_count": 14,
     "metadata": {},
     "output_type": "execute_result"
    }
   ],
   "source": [
    "file = data[\"file\"][0]\n",
    "\n",
    "base = alt.Chart(data[data[\"file\"]==file])\n",
    "\n",
    "superflux = base.mark_line().encode(x=\"timestamps\", y=\"superflux\")\n",
    "\n",
    "onsets = alt.Chart(data[data[\"file\"]==file][data[\"onset\"]]).mark_rule(color='red').encode(\n",
    "    x='timestamps',\n",
    ")\n",
    "\n",
    "predictions = alt.Chart(data[data[\"file\"]==file]).mark_point().encode(\n",
    "    x='timestamps',\n",
    "    y=\"superflux\",\n",
    "    color=\"onset prediction:N\",\n",
    ")\n",
    "\n",
    "(superflux + onsets + predictions).properties(width=1200).interactive()"
   ]
  },
  {
   "cell_type": "code",
   "execution_count": null,
   "id": "c4e784b9-3f36-457e-8301-9f3722e3b549",
   "metadata": {},
   "outputs": [],
   "source": []
  }
 ],
 "metadata": {
  "kernelspec": {
   "display_name": "Python 3 (ipykernel)",
   "language": "python",
   "name": "python3"
  },
  "language_info": {
   "codemirror_mode": {
    "name": "ipython",
    "version": 3
   },
   "file_extension": ".py",
   "mimetype": "text/x-python",
   "name": "python",
   "nbconvert_exporter": "python",
   "pygments_lexer": "ipython3",
   "version": "3.9.5"
  }
 },
 "nbformat": 4,
 "nbformat_minor": 5
}
