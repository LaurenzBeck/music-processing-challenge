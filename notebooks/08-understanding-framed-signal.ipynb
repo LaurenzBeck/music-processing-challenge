{
 "cells": [
  {
   "cell_type": "code",
   "execution_count": 1,
   "id": "080a8ea7-e296-4e3c-a035-08aee961f713",
   "metadata": {},
   "outputs": [],
   "source": [
    "import madmom\n",
    "import numpy as np"
   ]
  },
  {
   "cell_type": "code",
   "execution_count": 5,
   "id": "68d6cf00-b709-4b9a-ba09-7f273158d8f3",
   "metadata": {},
   "outputs": [],
   "source": [
    "arr = np.linspace(0.0, 1.0, num=20)"
   ]
  },
  {
   "cell_type": "code",
   "execution_count": 10,
   "id": "96b18311-1110-4fe7-b288-7053fcfa744a",
   "metadata": {},
   "outputs": [
    {
     "data": {
      "text/plain": [
       "Signal([0.        , 0.05263158, 0.10526316, 0.15789474, 0.21052632,\n",
       "        0.26315789, 0.31578947, 0.36842105, 0.42105263, 0.47368421,\n",
       "        0.52631579, 0.57894737, 0.63157895, 0.68421053, 0.73684211,\n",
       "        0.78947368, 0.84210526, 0.89473684, 0.94736842, 1.        ])"
      ]
     },
     "execution_count": 10,
     "metadata": {},
     "output_type": "execute_result"
    }
   ],
   "source": [
    "sig = madmom.audio.Signal(arr, sample_rate=20)\n",
    "sig"
   ]
  },
  {
   "cell_type": "code",
   "execution_count": 12,
   "id": "381b5146-82e5-479d-a1c3-e062e486c43f",
   "metadata": {},
   "outputs": [
    {
     "data": {
      "text/plain": [
       "[Signal([0.        , 0.        , 0.        , 0.05263158, 0.10526316]),\n",
       " Signal([0.15789474, 0.21052632, 0.26315789, 0.31578947, 0.36842105]),\n",
       " Signal([0.42105263, 0.47368421, 0.52631579, 0.57894737, 0.63157895]),\n",
       " Signal([0.68421053, 0.73684211, 0.78947368, 0.84210526, 0.89473684])]"
      ]
     },
     "execution_count": 12,
     "metadata": {},
     "output_type": "execute_result"
    }
   ],
   "source": [
    "list(madmom.audio.FramedSignal(sig, frame_size=5, fps=4))"
   ]
  },
  {
   "cell_type": "markdown",
   "id": "4e7d5a55-b010-4ea4-ba90-4472713a16a4",
   "metadata": {},
   "source": [
    "-> fs doesn't start with the signal as expected"
   ]
  },
  {
   "cell_type": "code",
   "execution_count": 13,
   "id": "b1825f72-1061-4236-95fc-d10f4daa5c1f",
   "metadata": {},
   "outputs": [
    {
     "data": {
      "text/plain": [
       "[Signal([0.        , 0.        , 0.        , 0.05263158, 0.10526316]),\n",
       " Signal([0.        , 0.05263158, 0.10526316, 0.15789474, 0.21052632]),\n",
       " Signal([0.15789474, 0.21052632, 0.26315789, 0.31578947, 0.36842105]),\n",
       " Signal([0.26315789, 0.31578947, 0.36842105, 0.42105263, 0.47368421]),\n",
       " Signal([0.42105263, 0.47368421, 0.52631579, 0.57894737, 0.63157895]),\n",
       " Signal([0.52631579, 0.57894737, 0.63157895, 0.68421053, 0.73684211]),\n",
       " Signal([0.68421053, 0.73684211, 0.78947368, 0.84210526, 0.89473684]),\n",
       " Signal([0.78947368, 0.84210526, 0.89473684, 0.94736842, 1.        ])]"
      ]
     },
     "execution_count": 13,
     "metadata": {},
     "output_type": "execute_result"
    }
   ],
   "source": [
    "list(madmom.audio.FramedSignal(sig, frame_size=5, fps=8))"
   ]
  },
  {
   "cell_type": "code",
   "execution_count": 14,
   "id": "179fbf53-411e-4975-9ead-f5b298bb6175",
   "metadata": {},
   "outputs": [
    {
     "data": {
      "text/plain": [
       "[Signal([0.        , 0.        , 0.        , 0.05263158, 0.10526316]),\n",
       " Signal([0.        , 0.        , 0.05263158, 0.10526316, 0.15789474]),\n",
       " Signal([0.        , 0.05263158, 0.10526316, 0.15789474, 0.21052632]),\n",
       " Signal([0.05263158, 0.10526316, 0.15789474, 0.21052632, 0.26315789]),\n",
       " Signal([0.15789474, 0.21052632, 0.26315789, 0.31578947, 0.36842105]),\n",
       " Signal([0.21052632, 0.26315789, 0.31578947, 0.36842105, 0.42105263]),\n",
       " Signal([0.26315789, 0.31578947, 0.36842105, 0.42105263, 0.47368421]),\n",
       " Signal([0.31578947, 0.36842105, 0.42105263, 0.47368421, 0.52631579]),\n",
       " Signal([0.42105263, 0.47368421, 0.52631579, 0.57894737, 0.63157895]),\n",
       " Signal([0.47368421, 0.52631579, 0.57894737, 0.63157895, 0.68421053]),\n",
       " Signal([0.52631579, 0.57894737, 0.63157895, 0.68421053, 0.73684211]),\n",
       " Signal([0.57894737, 0.63157895, 0.68421053, 0.73684211, 0.78947368]),\n",
       " Signal([0.68421053, 0.73684211, 0.78947368, 0.84210526, 0.89473684]),\n",
       " Signal([0.73684211, 0.78947368, 0.84210526, 0.89473684, 0.94736842]),\n",
       " Signal([0.78947368, 0.84210526, 0.89473684, 0.94736842, 1.        ]),\n",
       " Signal([0.84210526, 0.89473684, 0.94736842, 1.        , 0.        ])]"
      ]
     },
     "execution_count": 14,
     "metadata": {},
     "output_type": "execute_result"
    }
   ],
   "source": [
    "list(madmom.audio.FramedSignal(sig, frame_size=5, fps=16))"
   ]
  },
  {
   "cell_type": "markdown",
   "id": "39cc1722-b0d2-4f00-8bdf-f3fd225e6803",
   "metadata": {},
   "source": [
    "-> fs does overlap if the fps and framesize have the right sizes"
   ]
  },
  {
   "cell_type": "code",
   "execution_count": 15,
   "id": "3d95d7ce-aede-46c7-a820-3411390c57fb",
   "metadata": {},
   "outputs": [
    {
     "data": {
      "text/plain": [
       "[Signal([0.        , 0.        , 0.        , 0.05263158, 0.10526316]),\n",
       " Signal([0.42105263, 0.47368421, 0.52631579, 0.57894737, 0.63157895])]"
      ]
     },
     "execution_count": 15,
     "metadata": {},
     "output_type": "execute_result"
    }
   ],
   "source": [
    "list(madmom.audio.FramedSignal(sig, frame_size=5, fps=2))"
   ]
  },
  {
   "cell_type": "markdown",
   "id": "31023334-e872-4177-b2e0-97d7c66322d7",
   "metadata": {},
   "source": [
    "-> strange behaviour when framesize and fps is too small"
   ]
  },
  {
   "cell_type": "code",
   "execution_count": 16,
   "id": "6e8a7359-0e6c-4117-97da-99f60fac3fde",
   "metadata": {},
   "outputs": [
    {
     "data": {
      "text/plain": [
       "[Signal([0.        , 0.05263158, 0.10526316, 0.15789474, 0.21052632]),\n",
       " Signal([0.26315789, 0.31578947, 0.36842105, 0.42105263, 0.47368421]),\n",
       " Signal([0.52631579, 0.57894737, 0.63157895, 0.68421053, 0.73684211]),\n",
       " Signal([0.78947368, 0.84210526, 0.89473684, 0.94736842, 1.        ])]"
      ]
     },
     "execution_count": 16,
     "metadata": {},
     "output_type": "execute_result"
    }
   ],
   "source": [
    "list(madmom.audio.FramedSignal(sig, frame_size=5, fps=4, origin=\"right\"))"
   ]
  },
  {
   "cell_type": "code",
   "execution_count": 17,
   "id": "d1f1a1d8-59d9-4ce4-9569-1c2d7c58d490",
   "metadata": {},
   "outputs": [
    {
     "data": {
      "text/plain": [
       "[Signal([0.        , 0.        , 0.        , 0.05263158, 0.10526316]),\n",
       " Signal([0.15789474, 0.21052632, 0.26315789, 0.31578947, 0.36842105]),\n",
       " Signal([0.42105263, 0.47368421, 0.52631579, 0.57894737, 0.63157895]),\n",
       " Signal([0.68421053, 0.73684211, 0.78947368, 0.84210526, 0.89473684])]"
      ]
     },
     "execution_count": 17,
     "metadata": {},
     "output_type": "execute_result"
    }
   ],
   "source": [
    "list(madmom.audio.FramedSignal(sig, frame_size=5, fps=4))"
   ]
  },
  {
   "cell_type": "markdown",
   "id": "6355063d-d435-499f-b19d-b6ff3b7456c4",
   "metadata": {},
   "source": [
    "lets reason about our previous timestamps calculation:\n",
    "\n",
    "```python\n",
    "for window_index in range(len(fs)):\n",
    "    window_start_time = window_index / self.fps\n",
    "    window_end_time = window_index / self.fps + 1.0 / self.fps\n",
    "```"
   ]
  },
  {
   "cell_type": "markdown",
   "id": "bc7b3e29-c19f-4174-8d24-4ee1463c537e",
   "metadata": {},
   "source": [
    "## case right\n",
    "0   , 0.25\n",
    "0.25, 0.5\n",
    "0.5 , 0.75\n",
    "0.75, 1.0\n",
    "-> seems right for the aligned case"
   ]
  },
  {
   "cell_type": "code",
   "execution_count": 18,
   "id": "389b7d28-923e-45e2-aa1e-49c6d578fbcd",
   "metadata": {},
   "outputs": [
    {
     "data": {
      "text/plain": [
       "[Signal([0.        , 0.05263158, 0.10526316, 0.15789474, 0.21052632]),\n",
       " Signal([0.10526316, 0.15789474, 0.21052632, 0.26315789, 0.31578947]),\n",
       " Signal([0.26315789, 0.31578947, 0.36842105, 0.42105263, 0.47368421]),\n",
       " Signal([0.36842105, 0.42105263, 0.47368421, 0.52631579, 0.57894737]),\n",
       " Signal([0.52631579, 0.57894737, 0.63157895, 0.68421053, 0.73684211]),\n",
       " Signal([0.63157895, 0.68421053, 0.73684211, 0.78947368, 0.84210526]),\n",
       " Signal([0.78947368, 0.84210526, 0.89473684, 0.94736842, 1.        ]),\n",
       " Signal([0.89473684, 0.94736842, 1.        , 0.        , 0.        ])]"
      ]
     },
     "execution_count": 18,
     "metadata": {},
     "output_type": "execute_result"
    }
   ],
   "source": [
    "list(madmom.audio.FramedSignal(sig, frame_size=5, fps=8, origin=\"right\"))"
   ]
  },
  {
   "cell_type": "markdown",
   "id": "632e8a21-692c-418f-a1c7-e5f9b70cb30d",
   "metadata": {},
   "source": [
    "-> seems also right\n",
    "\n",
    "using origin=\"right\" should do the trick"
   ]
  },
  {
   "cell_type": "code",
   "execution_count": null,
   "id": "3a360bd6-8800-461a-941d-975346e6bcc0",
   "metadata": {},
   "outputs": [],
   "source": []
  }
 ],
 "metadata": {
  "kernelspec": {
   "display_name": "Python 3 (ipykernel)",
   "language": "python",
   "name": "python3"
  },
  "language_info": {
   "codemirror_mode": {
    "name": "ipython",
    "version": 3
   },
   "file_extension": ".py",
   "mimetype": "text/x-python",
   "name": "python",
   "nbconvert_exporter": "python",
   "pygments_lexer": "ipython3",
   "version": "3.9.5"
  }
 },
 "nbformat": 4,
 "nbformat_minor": 5
}
