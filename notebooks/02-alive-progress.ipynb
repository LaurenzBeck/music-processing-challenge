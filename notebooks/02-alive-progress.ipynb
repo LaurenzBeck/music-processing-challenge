{
 "cells": [
  {
   "cell_type": "code",
   "execution_count": 11,
   "id": "a813b34d-0aad-4ef3-b8c0-6cca6919d82b",
   "metadata": {},
   "outputs": [],
   "source": [
    "from alive_progress import alive_bar, alive_it\n",
    "from time import sleep"
   ]
  },
  {
   "cell_type": "code",
   "execution_count": 10,
   "id": "02408354-cbe1-40c0-8f0f-45b6283f2fb1",
   "metadata": {},
   "outputs": [
    {
     "name": "stdout",
     "output_type": "stream",
     "text": [
      "|████████████████████████████████████████| 123/123 [100%] in 12.3s (9.97/s) \n"
     ]
    }
   ],
   "source": [
    "with alive_bar(123) as bar:  # <-- expected total and bar title\n",
    "    for _ in range(123):\n",
    "        # process item\n",
    "        sleep(0.1)\n",
    "        bar()  # makes the bar go forward"
   ]
  },
  {
   "cell_type": "code",
   "execution_count": 12,
   "id": "50581b82-7457-47d9-9791-906a14ed9cec",
   "metadata": {},
   "outputs": [
    {
     "name": "stdout",
     "output_type": "stream",
     "text": [
      "|████████████████████████████████████████| 123/123 [100%] in 12.3s (9.97/s) \n"
     ]
    }
   ],
   "source": [
    "for _ in alive_it(range(123)):\n",
    "    # process item\n",
    "    sleep(0.1)"
   ]
  },
  {
   "cell_type": "code",
   "execution_count": 14,
   "id": "4e4ce8ac-dd6a-4d61-a722-a6cc63b02d04",
   "metadata": {},
   "outputs": [
    {
     "name": "stdout",
     "output_type": "stream",
     "text": [
      "on 7: fail \"H\", retry later\n",
      "on 10: fail \"K\", retry later\n",
      "on 22: fail \"W\", retry later\n",
      "on 25: fail \"Z\", retry later\n",
      "Alphabet |████████████████████████████████████████| 26/26 [100%] in 7.8s (3.33/s) \n"
     ]
    }
   ],
   "source": [
    "letters = [chr(ord(\"A\") + x) for x in range(26)]\n",
    "with alive_bar(26, dual_line=True, title=\"Alphabet\") as bar:\n",
    "    for c in letters:\n",
    "        bar.text = f\"-> Teaching the letter: {c}, please wait...\"\n",
    "        if c in \"HKWZ\":\n",
    "            print(f'fail \"{c}\", retry later')\n",
    "        sleep(0.3)\n",
    "        bar()"
   ]
  },
  {
   "cell_type": "code",
   "execution_count": 15,
   "id": "b96c63bc-05b2-416f-b71e-f787bca248ff",
   "metadata": {},
   "outputs": [
    {
     "ename": "UserWarning",
     "evalue": "This must be run on a tty connected terminal.",
     "output_type": "error",
     "traceback": [
      "\u001b[0;31m---------------------------------------------------------------------------\u001b[0m",
      "\u001b[0;31mUserWarning\u001b[0m                               Traceback (most recent call last)",
      "Input \u001b[0;32mIn [15]\u001b[0m, in \u001b[0;36m<cell line: 3>\u001b[0;34m()\u001b[0m\n\u001b[1;32m      1\u001b[0m \u001b[38;5;28;01mfrom\u001b[39;00m \u001b[38;5;21;01malive_progress\u001b[39;00m\u001b[38;5;21;01m.\u001b[39;00m\u001b[38;5;21;01mstyles\u001b[39;00m \u001b[38;5;28;01mimport\u001b[39;00m showtime\n\u001b[0;32m----> 3\u001b[0m \u001b[43mshowtime\u001b[49m\u001b[43m(\u001b[49m\u001b[43m)\u001b[49m\n",
      "File \u001b[0;32m~/.cache/pypoetry/virtualenvs/music-processing-6AESlpXO-py3.9/lib/python3.9/site-packages/alive_progress/styles/exhibit.py:35\u001b[0m, in \u001b[0;36mshowtime\u001b[0;34m(show, fps, length, pattern)\u001b[0m\n\u001b[1;32m     29\u001b[0m show_funcs \u001b[38;5;241m=\u001b[39m {\n\u001b[1;32m     30\u001b[0m     Show\u001b[38;5;241m.\u001b[39mSPINNERS: show_spinners,\n\u001b[1;32m     31\u001b[0m     Show\u001b[38;5;241m.\u001b[39mBARS: show_bars,\n\u001b[1;32m     32\u001b[0m     Show\u001b[38;5;241m.\u001b[39mTHEMES: show_themes,\n\u001b[1;32m     33\u001b[0m }\n\u001b[1;32m     34\u001b[0m \u001b[38;5;28;01massert\u001b[39;00m show \u001b[38;5;129;01min\u001b[39;00m show_funcs, \u001b[38;5;124m'\u001b[39m\u001b[38;5;124mWhich show do you want? Try Show.SPINNERS for example.\u001b[39m\u001b[38;5;124m'\u001b[39m\n\u001b[0;32m---> 35\u001b[0m \u001b[43mshow_funcs\u001b[49m\u001b[43m[\u001b[49m\u001b[43mshow\u001b[49m\u001b[43m]\u001b[49m\u001b[43m(\u001b[49m\u001b[43mfps\u001b[49m\u001b[38;5;241;43m=\u001b[39;49m\u001b[43mfps\u001b[49m\u001b[43m,\u001b[49m\u001b[43m \u001b[49m\u001b[43mlength\u001b[49m\u001b[38;5;241;43m=\u001b[39;49m\u001b[43mlength\u001b[49m\u001b[43m,\u001b[49m\u001b[43m \u001b[49m\u001b[43mpattern\u001b[49m\u001b[38;5;241;43m=\u001b[39;49m\u001b[43mpattern\u001b[49m\u001b[43m)\u001b[49m\n",
      "File \u001b[0;32m~/.cache/pypoetry/virtualenvs/music-processing-6AESlpXO-py3.9/lib/python3.9/site-packages/alive_progress/styles/exhibit.py:69\u001b[0m, in \u001b[0;36mshow_spinners\u001b[0;34m(fps, length, pattern)\u001b[0m\n\u001b[1;32m     53\u001b[0m gens \u001b[38;5;241m=\u001b[39m [_spinner_gen(\u001b[38;5;124mf\u001b[39m\u001b[38;5;124m'\u001b[39m\u001b[38;5;132;01m{\u001b[39;00mk\u001b[38;5;132;01m:\u001b[39;00m\u001b[38;5;124m^\u001b[39m\u001b[38;5;132;01m{\u001b[39;00mmax_name_length\u001b[38;5;132;01m}\u001b[39;00m\u001b[38;5;132;01m}\u001b[39;00m\u001b[38;5;124m'\u001b[39m, s, max_natural) \u001b[38;5;28;01mfor\u001b[39;00m k, s \u001b[38;5;129;01min\u001b[39;00m selected\u001b[38;5;241m.\u001b[39mitems()]\n\u001b[1;32m     54\u001b[0m info \u001b[38;5;241m=\u001b[39m Info(\n\u001b[1;32m     55\u001b[0m     title\u001b[38;5;241m=\u001b[39m(\u001b[38;5;124m'\u001b[39m\u001b[38;5;124mSpinners\u001b[39m\u001b[38;5;124m'\u001b[39m, \u001b[38;5;124m'\u001b[39m\u001b[38;5;124mincluding their unknown bar performances\u001b[39m\u001b[38;5;124m'\u001b[39m),\n\u001b[1;32m     56\u001b[0m     descr\u001b[38;5;241m=\u001b[39m(\u001b[38;5;124m'\u001b[39m\u001b[38;5;124mSpinners generate and run fluid animations, with a plethora of special effects,\u001b[39m\u001b[38;5;124m'\u001b[39m\n\u001b[0;32m   (...)\u001b[0m\n\u001b[1;32m     67\u001b[0m           \u001b[38;5;124m'\u001b[39m\u001b[38;5;124mA spinner have a specific \u001b[39m\u001b[38;5;124m\"\u001b[39m\u001b[38;5;124mnatural\u001b[39m\u001b[38;5;124m\"\u001b[39m\u001b[38;5;124m length, and know how to spread its contents over\u001b[39m\u001b[38;5;124m'\u001b[39m\n\u001b[1;32m     68\u001b[0m           \u001b[38;5;124m'\u001b[39m\u001b[38;5;124m any desired space.\u001b[39m\u001b[38;5;124m'\u001b[39m,))\n\u001b[0;32m---> 69\u001b[0m \u001b[43m_showtime_gen\u001b[49m\u001b[43m(\u001b[49m\u001b[43mfps\u001b[49m\u001b[43m,\u001b[49m\u001b[43m \u001b[49m\u001b[43mgens\u001b[49m\u001b[43m,\u001b[49m\u001b[43m \u001b[49m\u001b[43minfo\u001b[49m\u001b[43m,\u001b[49m\u001b[43m \u001b[49m\u001b[43mlength\u001b[49m\u001b[43m)\u001b[49m\n",
      "File \u001b[0;32m~/.cache/pypoetry/virtualenvs/music-processing-6AESlpXO-py3.9/lib/python3.9/site-packages/alive_progress/styles/exhibit.py:138\u001b[0m, in \u001b[0;36m_showtime_gen\u001b[0;34m(fps, gens, info, length)\u001b[0m\n\u001b[1;32m    136\u001b[0m \u001b[38;5;28;01mdef\u001b[39;00m \u001b[38;5;21m_showtime_gen\u001b[39m(fps, gens, info, length):\n\u001b[1;32m    137\u001b[0m     \u001b[38;5;28;01mif\u001b[39;00m \u001b[38;5;129;01mnot\u001b[39;00m sys\u001b[38;5;241m.\u001b[39mstdout\u001b[38;5;241m.\u001b[39misatty():\n\u001b[0;32m--> 138\u001b[0m         \u001b[38;5;28;01mraise\u001b[39;00m \u001b[38;5;167;01mUserWarning\u001b[39;00m(\u001b[38;5;124m'\u001b[39m\u001b[38;5;124mThis must be run on a tty connected terminal.\u001b[39m\u001b[38;5;124m'\u001b[39m)\n\u001b[1;32m    140\u001b[0m     \u001b[38;5;28;01mdef\u001b[39;00m \u001b[38;5;21mtitle\u001b[39m(t, r\u001b[38;5;241m=\u001b[39m\u001b[38;5;28;01mFalse\u001b[39;00m):\n\u001b[1;32m    141\u001b[0m         \u001b[38;5;28;01mreturn\u001b[39;00m scrolling_spinner_factory(t, right\u001b[38;5;241m=\u001b[39mr, wrap\u001b[38;5;241m=\u001b[39m\u001b[38;5;28;01mFalse\u001b[39;00m)\u001b[38;5;241m.\u001b[39mpause(center\u001b[38;5;241m=\u001b[39m\u001b[38;5;241m12\u001b[39m),  \u001b[38;5;66;03m# 1-tuple.\u001b[39;00m\n",
      "\u001b[0;31mUserWarning\u001b[0m: This must be run on a tty connected terminal."
     ]
    }
   ],
   "source": [
    "from alive_progress.styles import showtime\n",
    "\n",
    "showtime()"
   ]
  },
  {
   "cell_type": "code",
   "execution_count": null,
   "id": "30ca306a-3268-4af2-9e2b-74be664db82f",
   "metadata": {},
   "outputs": [],
   "source": []
  }
 ],
 "metadata": {
  "kernelspec": {
   "display_name": "Python 3 (ipykernel)",
   "language": "python",
   "name": "python3"
  },
  "language_info": {
   "codemirror_mode": {
    "name": "ipython",
    "version": 3
   },
   "file_extension": ".py",
   "mimetype": "text/x-python",
   "name": "python",
   "nbconvert_exporter": "python",
   "pygments_lexer": "ipython3",
   "version": "3.9.5"
  }
 },
 "nbformat": 4,
 "nbformat_minor": 5
}
