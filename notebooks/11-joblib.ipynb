{
 "cells": [
  {
   "cell_type": "code",
   "execution_count": 1,
   "id": "0d7f633e-c643-49ed-9267-fd9dfca08235",
   "metadata": {},
   "outputs": [],
   "source": [
    "from alive_progress import alive_it, alive_bar\n",
    "import madmom\n",
    "from joblib import Parallel, delayed\n",
    "import yaml\n",
    "import json\n",
    "from loguru import logger as log\n",
    "from time import sleep"
   ]
  },
  {
   "cell_type": "code",
   "execution_count": 2,
   "id": "9313fdb2-f0e5-4c9c-968b-30fd26e74db1",
   "metadata": {},
   "outputs": [],
   "source": [
    "with open(\"../params.yaml\", \"r\", encoding=\"utf-8\") as file:\n",
    "        params = yaml.safe_load(file)\n",
    "\n",
    "with open(\n",
    "    \"../reports/onset-detection/test-onsets.json\", \"r\", encoding=\"utf-8\"\n",
    ") as file:\n",
    "    test_onsets = json.load(file)\n",
    "\n",
    "with open(\"../reports/onset-detection/val-onsets.json\", \"r\", encoding=\"utf-8\") as file:\n",
    "    val_onsets = json.load(file)\n",
    "\n",
    "onsets: dict = {\n",
    "    \"test\": test_onsets,\n",
    "    \"val\": val_onsets,\n",
    "}"
   ]
  },
  {
   "cell_type": "code",
   "execution_count": 3,
   "id": "99fb75da-05d3-43eb-8d80-86dfcc21fc6c",
   "metadata": {},
   "outputs": [
    {
     "name": "stderr",
     "output_type": "stream",
     "text": [
      "2022-06-12 20:31:36.720 | INFO     | __main__:inner:4 - filtering onsets of stage ’test’\n"
     ]
    },
    {
     "name": "stdout",
     "output_type": "stream",
     "text": [
      "|████████████████████████████████████████| 50/50 [100%] in 10.1s (4.94/s)                                               \n"
     ]
    },
    {
     "name": "stderr",
     "output_type": "stream",
     "text": [
      "2022-06-12 20:31:46.917 | INFO     | __main__:inner:4 - filtering onsets of stage ’val’\n"
     ]
    },
    {
     "name": "stdout",
     "output_type": "stream",
     "text": [
      "|████████████████████████████████████████| 26/26 [100%] in 5.3s (4.95/s)                                                \n",
      "15.5 s ± 0 ns per loop (mean ± std. dev. of 1 run, 1 loop each)\n"
     ]
    }
   ],
   "source": [
    "%%timeit -n 1 -r 1\n",
    "\n",
    "beats: dict = {\"test\": {}, \"val\": {}}\n",
    "\n",
    "for stage in onsets.keys():\n",
    "    log.info(f\"filtering onsets of stage ’{stage}’\")\n",
    "    bar = alive_it(onsets[stage].keys(), force_tty=True)\n",
    "    for file in bar:\n",
    "        bar.text = file\n",
    "        sleep(0.2)\n",
    "        beats[stage][file] = file"
   ]
  },
  {
   "cell_type": "markdown",
   "id": "0ac00643-5a26-4679-bbc4-fcac12b398e6",
   "metadata": {},
   "source": [
    "now we want to parallelize this task with joblib"
   ]
  },
  {
   "cell_type": "code",
   "execution_count": 16,
   "id": "c3454686-46fa-48a0-8a2a-d701042827bb",
   "metadata": {},
   "outputs": [],
   "source": [
    "beats: dict = {\"test\": {}, \"val\": {}}"
   ]
  },
  {
   "cell_type": "code",
   "execution_count": 17,
   "id": "eae7851d-8085-4252-bd56-c99f951eac28",
   "metadata": {},
   "outputs": [],
   "source": [
    "def file_func(file, b):\n",
    "    sleep(0.2)\n",
    "    b[stage][file] = file"
   ]
  },
  {
   "cell_type": "code",
   "execution_count": 18,
   "id": "8c64a414-43f6-41b7-9f03-33cb72ba895e",
   "metadata": {},
   "outputs": [
    {
     "name": "stderr",
     "output_type": "stream",
     "text": [
      "2022-06-12 20:38:35.354 | INFO     | __main__:<cell line: 1>:2 - filtering onsets of stage ’test’\n",
      "2022-06-12 20:38:45.386 | INFO     | __main__:<cell line: 1>:2 - filtering onsets of stage ’val’\n"
     ]
    }
   ],
   "source": [
    "for stage in onsets.keys():\n",
    "    log.info(f\"filtering onsets of stage ’{stage}’\")\n",
    "    Parallel(n_jobs=1, require='sharedmem')(delayed(file_func)(file, beats) for file in onsets[stage].keys())"
   ]
  },
  {
   "cell_type": "markdown",
   "id": "df926f39-448d-4889-ac31-e3c867bc0ffc",
   "metadata": {},
   "source": [
    "-> measuring the speedup in jupyter is pointless, as musltiprocessing does not work properly in jupyter, so only n_jobs=1 works here..."
   ]
  },
  {
   "cell_type": "code",
   "execution_count": 19,
   "id": "bf55d1c7-8818-4af0-8d0a-06d5f322c7a9",
   "metadata": {},
   "outputs": [
    {
     "data": {
      "text/plain": [
       "{'test': {'test08': 'test08',\n",
       "  'test33': 'test33',\n",
       "  'test48': 'test48',\n",
       "  'test49': 'test49',\n",
       "  'test03': 'test03',\n",
       "  'test43': 'test43',\n",
       "  'test19': 'test19',\n",
       "  'test11': 'test11',\n",
       "  'test12': 'test12',\n",
       "  'test04': 'test04',\n",
       "  'test15': 'test15',\n",
       "  'test40': 'test40',\n",
       "  'test20': 'test20',\n",
       "  'test29': 'test29',\n",
       "  'test24': 'test24',\n",
       "  'test27': 'test27',\n",
       "  'test34': 'test34',\n",
       "  'test18': 'test18',\n",
       "  'test39': 'test39',\n",
       "  'test38': 'test38',\n",
       "  'test10': 'test10',\n",
       "  'test21': 'test21',\n",
       "  'test22': 'test22',\n",
       "  'test05': 'test05',\n",
       "  'test47': 'test47',\n",
       "  'test35': 'test35',\n",
       "  'test23': 'test23',\n",
       "  'test44': 'test44',\n",
       "  'test17': 'test17',\n",
       "  'test37': 'test37',\n",
       "  'test32': 'test32',\n",
       "  'test42': 'test42',\n",
       "  'test14': 'test14',\n",
       "  'test13': 'test13',\n",
       "  'test26': 'test26',\n",
       "  'test25': 'test25',\n",
       "  'test28': 'test28',\n",
       "  'test31': 'test31',\n",
       "  'test46': 'test46',\n",
       "  'test07': 'test07',\n",
       "  'test41': 'test41',\n",
       "  'test01': 'test01',\n",
       "  'test36': 'test36',\n",
       "  'test16': 'test16',\n",
       "  'test06': 'test06',\n",
       "  'test02': 'test02',\n",
       "  'test50': 'test50',\n",
       "  'test30': 'test30',\n",
       "  'test09': 'test09',\n",
       "  'test45': 'test45'},\n",
       " 'val': {'lame_velvet': 'lame_velvet',\n",
       "  'Media-104917(15.6-25.6)': 'Media-104917(15.6-25.6)',\n",
       "  'train11': 'train11',\n",
       "  'Media-104016(5.1-15.1)': 'Media-104016(5.1-15.1)',\n",
       "  'lame_else3': 'lame_else3',\n",
       "  'SoundCheck2_73_Instrumental_Tambourine': 'SoundCheck2_73_Instrumental_Tambourine',\n",
       "  'ff123_beo1test': 'ff123_beo1test',\n",
       "  'Media-103416(12.0-22.0)': 'Media-103416(12.0-22.0)',\n",
       "  'Media-103515(19.7-29.7)': 'Media-103515(19.7-29.7)',\n",
       "  'ff123_Blackwater': 'ff123_Blackwater',\n",
       "  'Media-106117(7.0-17.0)': 'Media-106117(7.0-17.0)',\n",
       "  'ff123_BigYellow': 'ff123_BigYellow',\n",
       "  'lame_t1': 'lame_t1',\n",
       "  'Media-105801(11.0-21.0)': 'Media-105801(11.0-21.0)',\n",
       "  'Media-105213(13.0-23.0)': 'Media-105213(13.0-23.0)',\n",
       "  'Media-103515(9.1-19.1)': 'Media-103515(9.1-19.1)',\n",
       "  'jpb_wilco': 'jpb_wilco',\n",
       "  'Media-104506(3.8-13.8)': 'Media-104506(3.8-13.8)',\n",
       "  'train20': 'train20',\n",
       "  'Media-105615(12.4-22.4)': 'Media-105615(12.4-22.4)',\n",
       "  'jpb_fiona': 'jpb_fiona',\n",
       "  'ff123_DaFunk': 'ff123_DaFunk',\n",
       "  'mit_track4': 'mit_track4',\n",
       "  'Media-106103(4.0-14.0)': 'Media-106103(4.0-14.0)',\n",
       "  'train14': 'train14',\n",
       "  'Media-104218(9.3-19.3)': 'Media-104218(9.3-19.3)'}}"
      ]
     },
     "execution_count": 19,
     "metadata": {},
     "output_type": "execute_result"
    }
   ],
   "source": [
    "beats"
   ]
  },
  {
   "cell_type": "code",
   "execution_count": null,
   "id": "019dbadb-c85b-44a9-ae70-585781fca30d",
   "metadata": {},
   "outputs": [],
   "source": []
  }
 ],
 "metadata": {
  "kernelspec": {
   "display_name": "Python 3 (ipykernel)",
   "language": "python",
   "name": "python3"
  },
  "language_info": {
   "codemirror_mode": {
    "name": "ipython",
    "version": 3
   },
   "file_extension": ".py",
   "mimetype": "text/x-python",
   "name": "python",
   "nbconvert_exporter": "python",
   "pygments_lexer": "ipython3",
   "version": "3.9.5"
  }
 },
 "nbformat": 4,
 "nbformat_minor": 5
}
